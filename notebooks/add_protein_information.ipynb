{
 "cells": [
  {
   "cell_type": "code",
   "execution_count": 1,
   "metadata": {},
   "outputs": [],
   "source": [
    "import pandas as pd"
   ]
  },
  {
   "cell_type": "code",
   "execution_count": 2,
   "metadata": {},
   "outputs": [
    {
     "data": {
      "text/html": [
       "<div>\n",
       "<style scoped>\n",
       "    .dataframe tbody tr th:only-of-type {\n",
       "        vertical-align: middle;\n",
       "    }\n",
       "\n",
       "    .dataframe tbody tr th {\n",
       "        vertical-align: top;\n",
       "    }\n",
       "\n",
       "    .dataframe thead th {\n",
       "        text-align: right;\n",
       "    }\n",
       "</style>\n",
       "<table border=\"1\" class=\"dataframe\">\n",
       "  <thead>\n",
       "    <tr style=\"text-align: right;\">\n",
       "      <th></th>\n",
       "      <th>uniprot_id</th>\n",
       "      <th>protein_seq</th>\n",
       "    </tr>\n",
       "  </thead>\n",
       "  <tbody>\n",
       "    <tr>\n",
       "      <th>0</th>\n",
       "      <td>P35348</td>\n",
       "      <td>----------------------------------------------...</td>\n",
       "    </tr>\n",
       "    <tr>\n",
       "      <th>1</th>\n",
       "      <td>P25101</td>\n",
       "      <td>----------------------------------------------...</td>\n",
       "    </tr>\n",
       "    <tr>\n",
       "      <th>2</th>\n",
       "      <td>Q03431</td>\n",
       "      <td>----------------------------------------------...</td>\n",
       "    </tr>\n",
       "    <tr>\n",
       "      <th>3</th>\n",
       "      <td>P41145</td>\n",
       "      <td>----------------------------------------------...</td>\n",
       "    </tr>\n",
       "    <tr>\n",
       "      <th>4</th>\n",
       "      <td>P21728</td>\n",
       "      <td>----------------------------------------------...</td>\n",
       "    </tr>\n",
       "  </tbody>\n",
       "</table>\n",
       "</div>"
      ],
      "text/plain": [
       "  uniprot_id                                        protein_seq\n",
       "0     P35348  ----------------------------------------------...\n",
       "1     P25101  ----------------------------------------------...\n",
       "2     Q03431  ----------------------------------------------...\n",
       "3     P41145  ----------------------------------------------...\n",
       "4     P21728  ----------------------------------------------..."
      ]
     },
     "execution_count": 2,
     "metadata": {},
     "output_type": "execute_result"
    }
   ],
   "source": [
    "msa =\"/home/lab09/DEV/Deployments/AiGPro/aigpro/references/MSA_DF.parquet\"\n",
    "\n",
    "msa_df = pd.read_parquet(msa)\n",
    "msa_df.head()"
   ]
  },
  {
   "cell_type": "code",
   "execution_count": 3,
   "metadata": {},
   "outputs": [
    {
     "data": {
      "text/html": [
       "<div>\n",
       "<style scoped>\n",
       "    .dataframe tbody tr th:only-of-type {\n",
       "        vertical-align: middle;\n",
       "    }\n",
       "\n",
       "    .dataframe tbody tr th {\n",
       "        vertical-align: top;\n",
       "    }\n",
       "\n",
       "    .dataframe thead th {\n",
       "        text-align: right;\n",
       "    }\n",
       "</style>\n",
       "<table border=\"1\" class=\"dataframe\">\n",
       "  <thead>\n",
       "    <tr style=\"text-align: right;\">\n",
       "      <th></th>\n",
       "      <th>Entry</th>\n",
       "      <th>Entry Name</th>\n",
       "      <th>Protein names</th>\n",
       "      <th>Gene Names</th>\n",
       "      <th>Organism</th>\n",
       "      <th>Length</th>\n",
       "      <th>Protein families</th>\n",
       "      <th>class_name</th>\n",
       "    </tr>\n",
       "  </thead>\n",
       "  <tbody>\n",
       "    <tr>\n",
       "      <th>0</th>\n",
       "      <td>P46092</td>\n",
       "      <td>CCR10_HUMAN</td>\n",
       "      <td>C-C chemokine receptor type 10 (C-C CKR-10) (C...</td>\n",
       "      <td>CCR10 GPR2</td>\n",
       "      <td>Homo sapiens (Human)</td>\n",
       "      <td>362</td>\n",
       "      <td>G-protein coupled receptor 1 family</td>\n",
       "      <td>Class A (Rhodopsin)</td>\n",
       "    </tr>\n",
       "    <tr>\n",
       "      <th>1</th>\n",
       "      <td>P08913</td>\n",
       "      <td>ADA2A_HUMAN</td>\n",
       "      <td>Alpha-2A adrenergic receptor (Alpha-2 adrenerg...</td>\n",
       "      <td>ADRA2A ADRA2R ADRAR</td>\n",
       "      <td>Homo sapiens (Human)</td>\n",
       "      <td>465</td>\n",
       "      <td>G-protein coupled receptor 1 family, Adrenergi...</td>\n",
       "      <td>Class A (Rhodopsin)</td>\n",
       "    </tr>\n",
       "    <tr>\n",
       "      <th>2</th>\n",
       "      <td>P28336</td>\n",
       "      <td>NMBR_HUMAN</td>\n",
       "      <td>Neuromedin-B receptor (NMB-R) (Epididymis tiss...</td>\n",
       "      <td>NMBR</td>\n",
       "      <td>Homo sapiens (Human)</td>\n",
       "      <td>390</td>\n",
       "      <td>G-protein coupled receptor 1 family</td>\n",
       "      <td>Class A (Rhodopsin)</td>\n",
       "    </tr>\n",
       "    <tr>\n",
       "      <th>3</th>\n",
       "      <td>Q8TDS4</td>\n",
       "      <td>HCAR2_HUMAN</td>\n",
       "      <td>Hydroxycarboxylic acid receptor 2 (G-protein c...</td>\n",
       "      <td>HCAR2 GPR109A HCA2 HM74A NIACR1</td>\n",
       "      <td>Homo sapiens (Human)</td>\n",
       "      <td>363</td>\n",
       "      <td>G-protein coupled receptor 1 family</td>\n",
       "      <td>Class A (Rhodopsin)</td>\n",
       "    </tr>\n",
       "    <tr>\n",
       "      <th>4</th>\n",
       "      <td>Q9UKP6</td>\n",
       "      <td>UR2R_HUMAN</td>\n",
       "      <td>Urotensin-2 receptor (UR-2-R) (G-protein coupl...</td>\n",
       "      <td>UTS2R GPR14</td>\n",
       "      <td>Homo sapiens (Human)</td>\n",
       "      <td>389</td>\n",
       "      <td>G-protein coupled receptor 1 family</td>\n",
       "      <td>Class A (Rhodopsin)</td>\n",
       "    </tr>\n",
       "  </tbody>\n",
       "</table>\n",
       "</div>"
      ],
      "text/plain": [
       "    Entry   Entry Name                                      Protein names  \\\n",
       "0  P46092  CCR10_HUMAN  C-C chemokine receptor type 10 (C-C CKR-10) (C...   \n",
       "1  P08913  ADA2A_HUMAN  Alpha-2A adrenergic receptor (Alpha-2 adrenerg...   \n",
       "2  P28336   NMBR_HUMAN  Neuromedin-B receptor (NMB-R) (Epididymis tiss...   \n",
       "3  Q8TDS4  HCAR2_HUMAN  Hydroxycarboxylic acid receptor 2 (G-protein c...   \n",
       "4  Q9UKP6   UR2R_HUMAN  Urotensin-2 receptor (UR-2-R) (G-protein coupl...   \n",
       "\n",
       "                        Gene Names              Organism  Length  \\\n",
       "0                       CCR10 GPR2  Homo sapiens (Human)     362   \n",
       "1              ADRA2A ADRA2R ADRAR  Homo sapiens (Human)     465   \n",
       "2                             NMBR  Homo sapiens (Human)     390   \n",
       "3  HCAR2 GPR109A HCA2 HM74A NIACR1  Homo sapiens (Human)     363   \n",
       "4                      UTS2R GPR14  Homo sapiens (Human)     389   \n",
       "\n",
       "                                    Protein families           class_name  \n",
       "0                G-protein coupled receptor 1 family  Class A (Rhodopsin)  \n",
       "1  G-protein coupled receptor 1 family, Adrenergi...  Class A (Rhodopsin)  \n",
       "2                G-protein coupled receptor 1 family  Class A (Rhodopsin)  \n",
       "3                G-protein coupled receptor 1 family  Class A (Rhodopsin)  \n",
       "4                G-protein coupled receptor 1 family  Class A (Rhodopsin)  "
      ]
     },
     "execution_count": 3,
     "metadata": {},
     "output_type": "execute_result"
    }
   ],
   "source": [
    "main_gpcr =\"/home/lab09/DEV/GPCRScan/notebooks/gpcr_list.csv\"\n",
    "main_gpcr_df = pd.read_csv(main_gpcr)\n",
    "\n",
    "main_gpcr_df.head()"
   ]
  },
  {
   "cell_type": "code",
   "execution_count": 4,
   "metadata": {},
   "outputs": [
    {
     "data": {
      "text/plain": [
       "array(['Class A (Rhodopsin)', 'Class B1 (Secretin)',\n",
       "       'Class C (Glutamate)', 'Class T (Taste 2)', 'Class F (Frizzled)',\n",
       "       'Other'], dtype=object)"
      ]
     },
     "execution_count": 4,
     "metadata": {},
     "output_type": "execute_result"
    }
   ],
   "source": [
    "main_gpcr_df.class_name.unique()"
   ]
  },
  {
   "cell_type": "code",
   "execution_count": 5,
   "metadata": {},
   "outputs": [
    {
     "data": {
      "text/html": [
       "<div>\n",
       "<style scoped>\n",
       "    .dataframe tbody tr th:only-of-type {\n",
       "        vertical-align: middle;\n",
       "    }\n",
       "\n",
       "    .dataframe tbody tr th {\n",
       "        vertical-align: top;\n",
       "    }\n",
       "\n",
       "    .dataframe thead th {\n",
       "        text-align: right;\n",
       "    }\n",
       "</style>\n",
       "<table border=\"1\" class=\"dataframe\">\n",
       "  <thead>\n",
       "    <tr style=\"text-align: right;\">\n",
       "      <th></th>\n",
       "      <th>Entry</th>\n",
       "      <th>Entry Name</th>\n",
       "      <th>Protein names</th>\n",
       "      <th>Gene Names</th>\n",
       "      <th>Organism</th>\n",
       "      <th>Length</th>\n",
       "      <th>Protein families</th>\n",
       "      <th>class_name</th>\n",
       "    </tr>\n",
       "  </thead>\n",
       "  <tbody>\n",
       "    <tr>\n",
       "      <th>199</th>\n",
       "      <td>P34998</td>\n",
       "      <td>CRFR1_HUMAN</td>\n",
       "      <td>Corticotropin-releasing factor receptor 1 (CRF...</td>\n",
       "      <td>CRHR1 CRFR CRFR1 CRHR</td>\n",
       "      <td>Homo sapiens (Human)</td>\n",
       "      <td>444</td>\n",
       "      <td>G-protein coupled receptor 2 family</td>\n",
       "      <td>Other</td>\n",
       "    </tr>\n",
       "  </tbody>\n",
       "</table>\n",
       "</div>"
      ],
      "text/plain": [
       "      Entry   Entry Name                                      Protein names  \\\n",
       "199  P34998  CRFR1_HUMAN  Corticotropin-releasing factor receptor 1 (CRF...   \n",
       "\n",
       "                Gene Names              Organism  Length  \\\n",
       "199  CRHR1 CRFR CRFR1 CRHR  Homo sapiens (Human)     444   \n",
       "\n",
       "                        Protein families class_name  \n",
       "199  G-protein coupled receptor 2 family      Other  "
      ]
     },
     "execution_count": 5,
     "metadata": {},
     "output_type": "execute_result"
    }
   ],
   "source": [
    "main_gpcr_df[main_gpcr_df.class_name == \"Other\"]"
   ]
  },
  {
   "cell_type": "code",
   "execution_count": 6,
   "metadata": {},
   "outputs": [],
   "source": [
    "main_gpcr_df.loc[main_gpcr_df.class_name == \"Other\", \"class_name\"] = \"Class B1 (Secretin)\""
   ]
  },
  {
   "cell_type": "code",
   "execution_count": 7,
   "metadata": {},
   "outputs": [
    {
     "data": {
      "text/plain": [
       "array(['Class A (Rhodopsin)', 'Class B1 (Secretin)',\n",
       "       'Class C (Glutamate)', 'Class T (Taste 2)', 'Class F (Frizzled)'],\n",
       "      dtype=object)"
      ]
     },
     "execution_count": 7,
     "metadata": {},
     "output_type": "execute_result"
    }
   ],
   "source": [
    "main_gpcr_df.class_name.unique()\n"
   ]
  },
  {
   "cell_type": "code",
   "execution_count": 8,
   "metadata": {},
   "outputs": [],
   "source": [
    "main_gpcr_df.to_csv(\"/home/lab09/DEV/GPCRScan/notebooks/gpcr_list.csv\", index=False)\n"
   ]
  },
  {
   "cell_type": "code",
   "execution_count": 10,
   "metadata": {},
   "outputs": [
    {
     "data": {
      "text/html": [
       "<div>\n",
       "<style scoped>\n",
       "    .dataframe tbody tr th:only-of-type {\n",
       "        vertical-align: middle;\n",
       "    }\n",
       "\n",
       "    .dataframe tbody tr th {\n",
       "        vertical-align: top;\n",
       "    }\n",
       "\n",
       "    .dataframe thead th {\n",
       "        text-align: right;\n",
       "    }\n",
       "</style>\n",
       "<table border=\"1\" class=\"dataframe\">\n",
       "  <thead>\n",
       "    <tr style=\"text-align: right;\">\n",
       "      <th></th>\n",
       "      <th>uniprot_id</th>\n",
       "      <th>protein_seq</th>\n",
       "      <th>Entry</th>\n",
       "      <th>Entry Name</th>\n",
       "      <th>Protein names</th>\n",
       "      <th>Gene Names</th>\n",
       "      <th>Organism</th>\n",
       "      <th>Length</th>\n",
       "      <th>Protein families</th>\n",
       "      <th>class_name</th>\n",
       "    </tr>\n",
       "  </thead>\n",
       "  <tbody>\n",
       "    <tr>\n",
       "      <th>0</th>\n",
       "      <td>P46092</td>\n",
       "      <td>----------------------------------------------...</td>\n",
       "      <td>P46092</td>\n",
       "      <td>CCR10_HUMAN</td>\n",
       "      <td>C-C chemokine receptor type 10 (C-C CKR-10) (C...</td>\n",
       "      <td>CCR10 GPR2</td>\n",
       "      <td>Homo sapiens (Human)</td>\n",
       "      <td>362</td>\n",
       "      <td>G-protein coupled receptor 1 family</td>\n",
       "      <td>Class A (Rhodopsin)</td>\n",
       "    </tr>\n",
       "    <tr>\n",
       "      <th>1</th>\n",
       "      <td>P08913</td>\n",
       "      <td>----------------------------------------------...</td>\n",
       "      <td>P08913</td>\n",
       "      <td>ADA2A_HUMAN</td>\n",
       "      <td>Alpha-2A adrenergic receptor (Alpha-2 adrenerg...</td>\n",
       "      <td>ADRA2A ADRA2R ADRAR</td>\n",
       "      <td>Homo sapiens (Human)</td>\n",
       "      <td>465</td>\n",
       "      <td>G-protein coupled receptor 1 family, Adrenergi...</td>\n",
       "      <td>Class A (Rhodopsin)</td>\n",
       "    </tr>\n",
       "    <tr>\n",
       "      <th>2</th>\n",
       "      <td>P28336</td>\n",
       "      <td>----------------------------------------------...</td>\n",
       "      <td>P28336</td>\n",
       "      <td>NMBR_HUMAN</td>\n",
       "      <td>Neuromedin-B receptor (NMB-R) (Epididymis tiss...</td>\n",
       "      <td>NMBR</td>\n",
       "      <td>Homo sapiens (Human)</td>\n",
       "      <td>390</td>\n",
       "      <td>G-protein coupled receptor 1 family</td>\n",
       "      <td>Class A (Rhodopsin)</td>\n",
       "    </tr>\n",
       "    <tr>\n",
       "      <th>3</th>\n",
       "      <td>Q8TDS4</td>\n",
       "      <td>----------------------------------------------...</td>\n",
       "      <td>Q8TDS4</td>\n",
       "      <td>HCAR2_HUMAN</td>\n",
       "      <td>Hydroxycarboxylic acid receptor 2 (G-protein c...</td>\n",
       "      <td>HCAR2 GPR109A HCA2 HM74A NIACR1</td>\n",
       "      <td>Homo sapiens (Human)</td>\n",
       "      <td>363</td>\n",
       "      <td>G-protein coupled receptor 1 family</td>\n",
       "      <td>Class A (Rhodopsin)</td>\n",
       "    </tr>\n",
       "    <tr>\n",
       "      <th>4</th>\n",
       "      <td>Q9UKP6</td>\n",
       "      <td>----------------------------------------------...</td>\n",
       "      <td>Q9UKP6</td>\n",
       "      <td>UR2R_HUMAN</td>\n",
       "      <td>Urotensin-2 receptor (UR-2-R) (G-protein coupl...</td>\n",
       "      <td>UTS2R GPR14</td>\n",
       "      <td>Homo sapiens (Human)</td>\n",
       "      <td>389</td>\n",
       "      <td>G-protein coupled receptor 1 family</td>\n",
       "      <td>Class A (Rhodopsin)</td>\n",
       "    </tr>\n",
       "  </tbody>\n",
       "</table>\n",
       "</div>"
      ],
      "text/plain": [
       "  uniprot_id                                        protein_seq   Entry  \\\n",
       "0     P46092  ----------------------------------------------...  P46092   \n",
       "1     P08913  ----------------------------------------------...  P08913   \n",
       "2     P28336  ----------------------------------------------...  P28336   \n",
       "3     Q8TDS4  ----------------------------------------------...  Q8TDS4   \n",
       "4     Q9UKP6  ----------------------------------------------...  Q9UKP6   \n",
       "\n",
       "    Entry Name                                      Protein names  \\\n",
       "0  CCR10_HUMAN  C-C chemokine receptor type 10 (C-C CKR-10) (C...   \n",
       "1  ADA2A_HUMAN  Alpha-2A adrenergic receptor (Alpha-2 adrenerg...   \n",
       "2   NMBR_HUMAN  Neuromedin-B receptor (NMB-R) (Epididymis tiss...   \n",
       "3  HCAR2_HUMAN  Hydroxycarboxylic acid receptor 2 (G-protein c...   \n",
       "4   UR2R_HUMAN  Urotensin-2 receptor (UR-2-R) (G-protein coupl...   \n",
       "\n",
       "                        Gene Names              Organism  Length  \\\n",
       "0                       CCR10 GPR2  Homo sapiens (Human)     362   \n",
       "1              ADRA2A ADRA2R ADRAR  Homo sapiens (Human)     465   \n",
       "2                             NMBR  Homo sapiens (Human)     390   \n",
       "3  HCAR2 GPR109A HCA2 HM74A NIACR1  Homo sapiens (Human)     363   \n",
       "4                      UTS2R GPR14  Homo sapiens (Human)     389   \n",
       "\n",
       "                                    Protein families           class_name  \n",
       "0                G-protein coupled receptor 1 family  Class A (Rhodopsin)  \n",
       "1  G-protein coupled receptor 1 family, Adrenergi...  Class A (Rhodopsin)  \n",
       "2                G-protein coupled receptor 1 family  Class A (Rhodopsin)  \n",
       "3                G-protein coupled receptor 1 family  Class A (Rhodopsin)  \n",
       "4                G-protein coupled receptor 1 family  Class A (Rhodopsin)  "
      ]
     },
     "execution_count": 10,
     "metadata": {},
     "output_type": "execute_result"
    }
   ],
   "source": [
    "df = pd.merge(msa_df, main_gpcr_df, left_on=\"uniprot_id\", right_on=\"Entry\", how=\"right\")\n",
    "\n",
    "df.head()"
   ]
  },
  {
   "cell_type": "code",
   "execution_count": 11,
   "metadata": {},
   "outputs": [],
   "source": [
    "df.to_parquet(\"/home/lab09/DEV/Deployments/AiGPro/aigpro/references/MSA_DF.parquet\", index=False)\n"
   ]
  },
  {
   "cell_type": "code",
   "execution_count": null,
   "metadata": {},
   "outputs": [],
   "source": []
  }
 ],
 "metadata": {
  "kernelspec": {
   "display_name": "deply_aigpro",
   "language": "python",
   "name": "python3"
  },
  "language_info": {
   "codemirror_mode": {
    "name": "ipython",
    "version": 3
   },
   "file_extension": ".py",
   "mimetype": "text/x-python",
   "name": "python",
   "nbconvert_exporter": "python",
   "pygments_lexer": "ipython3",
   "version": "3.11.6"
  }
 },
 "nbformat": 4,
 "nbformat_minor": 2
}
