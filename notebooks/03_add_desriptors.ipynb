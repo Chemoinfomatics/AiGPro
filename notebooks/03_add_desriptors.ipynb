{
 "cells": [
  {
   "cell_type": "code",
   "execution_count": 1,
   "metadata": {},
   "outputs": [
    {
     "name": "stderr",
     "output_type": "stream",
     "text": [
      "/home/lab09/.conda/envs/gpcrscan/lib/python3.11/site-packages/tqdm/auto.py:21: TqdmWarning: IProgress not found. Please update jupyter and ipywidgets. See https://ipywidgets.readthedocs.io/en/stable/user_install.html\n",
      "  from .autonotebook import tqdm as notebook_tqdm\n"
     ]
    }
   ],
   "source": [
    "import os\n",
    "import pandas as pd\n",
    "import swifter\n",
    "from gpcrscan.chem.descriptors import add_canonical_smi\n",
    "from gpcrscan.chem.descriptors import add_charge_fp\n",
    "from gpcrscan.chem.descriptors import add_desc\n",
    "from gpcrscan.chem.descriptors import add_endpoint\n",
    "from gpcrscan.chem.descriptors import add_selfies\n",
    "from gpcrscan.utils.utilities import load_dataframe\n",
    "\n"
   ]
  },
  {
   "cell_type": "code",
   "execution_count": 2,
   "metadata": {},
   "outputs": [],
   "source": [
    "%load_ext autoreload\n",
    "%autoreload 2"
   ]
  },
  {
   "cell_type": "markdown",
   "metadata": {},
   "source": [
    "# DF must contain SMILES , EndPoint, Protein Seq"
   ]
  },
  {
   "cell_type": "code",
   "execution_count": 3,
   "metadata": {},
   "outputs": [
    {
     "data": {
      "text/html": [
       "<div>\n",
       "<style scoped>\n",
       "    .dataframe tbody tr th:only-of-type {\n",
       "        vertical-align: middle;\n",
       "    }\n",
       "\n",
       "    .dataframe tbody tr th {\n",
       "        vertical-align: top;\n",
       "    }\n",
       "\n",
       "    .dataframe thead th {\n",
       "        text-align: right;\n",
       "    }\n",
       "</style>\n",
       "<table border=\"1\" class=\"dataframe\">\n",
       "  <thead>\n",
       "    <tr style=\"text-align: right;\">\n",
       "      <th></th>\n",
       "      <th>combined_id</th>\n",
       "      <th>ec50</th>\n",
       "      <th>uniprot_id</th>\n",
       "      <th>inchi_key</th>\n",
       "      <th>endpoint</th>\n",
       "      <th>dataset</th>\n",
       "    </tr>\n",
       "  </thead>\n",
       "  <tbody>\n",
       "    <tr>\n",
       "      <th>0</th>\n",
       "      <td>P16473|KQAXOVRIAHANRP-UHFFFAOYSA-N</td>\n",
       "      <td>31622.8008</td>\n",
       "      <td>P16473</td>\n",
       "      <td>KQAXOVRIAHANRP-UHFFFAOYSA-N</td>\n",
       "      <td>0.250000</td>\n",
       "      <td>train</td>\n",
       "    </tr>\n",
       "    <tr>\n",
       "      <th>1</th>\n",
       "      <td>Q6W5P4|PDKNDDNVRANJIM-UHFFFAOYSA-N</td>\n",
       "      <td>10000.0000</td>\n",
       "      <td>Q6W5P4</td>\n",
       "      <td>PDKNDDNVRANJIM-UHFFFAOYSA-N</td>\n",
       "      <td>0.333333</td>\n",
       "      <td>train</td>\n",
       "    </tr>\n",
       "    <tr>\n",
       "      <th>2</th>\n",
       "      <td>P43220|MADSTIMKHBTMDS-UHFFFAOYSA-N</td>\n",
       "      <td>28183.8008</td>\n",
       "      <td>P43220</td>\n",
       "      <td>MADSTIMKHBTMDS-UHFFFAOYSA-N</td>\n",
       "      <td>0.258333</td>\n",
       "      <td>train</td>\n",
       "    </tr>\n",
       "    <tr>\n",
       "      <th>3</th>\n",
       "      <td>P16473|XKJYQGQMUPMJPB-UHFFFAOYSA-N</td>\n",
       "      <td>19952.5996</td>\n",
       "      <td>P16473</td>\n",
       "      <td>XKJYQGQMUPMJPB-UHFFFAOYSA-N</td>\n",
       "      <td>0.283333</td>\n",
       "      <td>train</td>\n",
       "    </tr>\n",
       "    <tr>\n",
       "      <th>4</th>\n",
       "      <td>O14842|STMQJGCAFZYVJO-UHFFFAOYSA-N</td>\n",
       "      <td>69.0000</td>\n",
       "      <td>O14842</td>\n",
       "      <td>STMQJGCAFZYVJO-UHFFFAOYSA-N</td>\n",
       "      <td>0.693525</td>\n",
       "      <td>train</td>\n",
       "    </tr>\n",
       "    <tr>\n",
       "      <th>...</th>\n",
       "      <td>...</td>\n",
       "      <td>...</td>\n",
       "      <td>...</td>\n",
       "      <td>...</td>\n",
       "      <td>...</td>\n",
       "      <td>...</td>\n",
       "    </tr>\n",
       "    <tr>\n",
       "      <th>235676</th>\n",
       "      <td>P43220|HCBHPBMOOSVXMK-UHFFFAOYSA-N</td>\n",
       "      <td>2818.3999</td>\n",
       "      <td>P43220</td>\n",
       "      <td>HCBHPBMOOSVXMK-UHFFFAOYSA-N</td>\n",
       "      <td>0.425000</td>\n",
       "      <td>train</td>\n",
       "    </tr>\n",
       "    <tr>\n",
       "      <th>235677</th>\n",
       "      <td>Q03431|XRYNGYFVBDYCOA-UHFFFAOYSA-N</td>\n",
       "      <td>44668.3984</td>\n",
       "      <td>Q03431</td>\n",
       "      <td>XRYNGYFVBDYCOA-UHFFFAOYSA-N</td>\n",
       "      <td>0.225000</td>\n",
       "      <td>train</td>\n",
       "    </tr>\n",
       "    <tr>\n",
       "      <th>235678</th>\n",
       "      <td>P43220|OJDAXNHNPTWBSN-UHFFFAOYSA-N</td>\n",
       "      <td>11220.2002</td>\n",
       "      <td>P43220</td>\n",
       "      <td>OJDAXNHNPTWBSN-UHFFFAOYSA-N</td>\n",
       "      <td>0.325000</td>\n",
       "      <td>train</td>\n",
       "    </tr>\n",
       "    <tr>\n",
       "      <th>235679</th>\n",
       "      <td>P43220|ABKKFERIXUERCT-UHFFFAOYSA-N</td>\n",
       "      <td>10000.0000</td>\n",
       "      <td>P43220</td>\n",
       "      <td>ABKKFERIXUERCT-UHFFFAOYSA-N</td>\n",
       "      <td>0.333333</td>\n",
       "      <td>train</td>\n",
       "    </tr>\n",
       "    <tr>\n",
       "      <th>235680</th>\n",
       "      <td>P16473|WGDLKKMGZLAZSL-UHFFFAOYSA-N</td>\n",
       "      <td>3981.1001</td>\n",
       "      <td>P16473</td>\n",
       "      <td>WGDLKKMGZLAZSL-UHFFFAOYSA-N</td>\n",
       "      <td>0.399999</td>\n",
       "      <td>train</td>\n",
       "    </tr>\n",
       "  </tbody>\n",
       "</table>\n",
       "<p>235681 rows × 6 columns</p>\n",
       "</div>"
      ],
      "text/plain": [
       "                               combined_id        ec50 uniprot_id  \\\n",
       "0       P16473|KQAXOVRIAHANRP-UHFFFAOYSA-N  31622.8008     P16473   \n",
       "1       Q6W5P4|PDKNDDNVRANJIM-UHFFFAOYSA-N  10000.0000     Q6W5P4   \n",
       "2       P43220|MADSTIMKHBTMDS-UHFFFAOYSA-N  28183.8008     P43220   \n",
       "3       P16473|XKJYQGQMUPMJPB-UHFFFAOYSA-N  19952.5996     P16473   \n",
       "4       O14842|STMQJGCAFZYVJO-UHFFFAOYSA-N     69.0000     O14842   \n",
       "...                                    ...         ...        ...   \n",
       "235676  P43220|HCBHPBMOOSVXMK-UHFFFAOYSA-N   2818.3999     P43220   \n",
       "235677  Q03431|XRYNGYFVBDYCOA-UHFFFAOYSA-N  44668.3984     Q03431   \n",
       "235678  P43220|OJDAXNHNPTWBSN-UHFFFAOYSA-N  11220.2002     P43220   \n",
       "235679  P43220|ABKKFERIXUERCT-UHFFFAOYSA-N  10000.0000     P43220   \n",
       "235680  P16473|WGDLKKMGZLAZSL-UHFFFAOYSA-N   3981.1001     P16473   \n",
       "\n",
       "                          inchi_key  endpoint dataset  \n",
       "0       KQAXOVRIAHANRP-UHFFFAOYSA-N  0.250000   train  \n",
       "1       PDKNDDNVRANJIM-UHFFFAOYSA-N  0.333333   train  \n",
       "2       MADSTIMKHBTMDS-UHFFFAOYSA-N  0.258333   train  \n",
       "3       XKJYQGQMUPMJPB-UHFFFAOYSA-N  0.283333   train  \n",
       "4       STMQJGCAFZYVJO-UHFFFAOYSA-N  0.693525   train  \n",
       "...                             ...       ...     ...  \n",
       "235676  HCBHPBMOOSVXMK-UHFFFAOYSA-N  0.425000   train  \n",
       "235677  XRYNGYFVBDYCOA-UHFFFAOYSA-N  0.225000   train  \n",
       "235678  OJDAXNHNPTWBSN-UHFFFAOYSA-N  0.325000   train  \n",
       "235679  ABKKFERIXUERCT-UHFFFAOYSA-N  0.333333   train  \n",
       "235680  WGDLKKMGZLAZSL-UHFFFAOYSA-N  0.399999   train  \n",
       "\n",
       "[235681 rows x 6 columns]"
      ]
     },
     "execution_count": 3,
     "metadata": {},
     "output_type": "execute_result"
    }
   ],
   "source": [
    "# file = \"../data/AzothBio/az_ic_df.csv\"\n",
    "# outfile = \"../data/AzothBio/az_ic_clean_df.csv\"\n",
    "# \"/home/lab09/DEV/GPCRScan/data/AzothBio/latest/ec50_data_scaled.csv\"\n",
    "\n",
    "\n",
    "iden = \"ec50\"\n",
    "file =f\"../data/AzothBio/latest/{iden}_data_scaled.csv\"\n",
    "\n",
    "outfile = f\"../data/AzothBio/latest/{iden}_data_scaled_clean.csv\"\n",
    "\n",
    "\n",
    "df = load_dataframe(file)\n",
    "df"
   ]
  },
  {
   "cell_type": "code",
   "execution_count": 4,
   "metadata": {},
   "outputs": [
    {
     "data": {
      "text/html": [
       "<div>\n",
       "<style scoped>\n",
       "    .dataframe tbody tr th:only-of-type {\n",
       "        vertical-align: middle;\n",
       "    }\n",
       "\n",
       "    .dataframe tbody tr th {\n",
       "        vertical-align: top;\n",
       "    }\n",
       "\n",
       "    .dataframe thead th {\n",
       "        text-align: right;\n",
       "    }\n",
       "</style>\n",
       "<table border=\"1\" class=\"dataframe\">\n",
       "  <thead>\n",
       "    <tr style=\"text-align: right;\">\n",
       "      <th></th>\n",
       "      <th>combined_id</th>\n",
       "      <th>standard_value</th>\n",
       "      <th>uniprot_id</th>\n",
       "      <th>inchi_key</th>\n",
       "      <th>endpoint</th>\n",
       "      <th>dataset</th>\n",
       "    </tr>\n",
       "  </thead>\n",
       "  <tbody>\n",
       "    <tr>\n",
       "      <th>0</th>\n",
       "      <td>P16473|KQAXOVRIAHANRP-UHFFFAOYSA-N</td>\n",
       "      <td>31622.8008</td>\n",
       "      <td>P16473</td>\n",
       "      <td>KQAXOVRIAHANRP-UHFFFAOYSA-N</td>\n",
       "      <td>0.250000</td>\n",
       "      <td>train</td>\n",
       "    </tr>\n",
       "    <tr>\n",
       "      <th>1</th>\n",
       "      <td>Q6W5P4|PDKNDDNVRANJIM-UHFFFAOYSA-N</td>\n",
       "      <td>10000.0000</td>\n",
       "      <td>Q6W5P4</td>\n",
       "      <td>PDKNDDNVRANJIM-UHFFFAOYSA-N</td>\n",
       "      <td>0.333333</td>\n",
       "      <td>train</td>\n",
       "    </tr>\n",
       "  </tbody>\n",
       "</table>\n",
       "</div>"
      ],
      "text/plain": [
       "                          combined_id  standard_value uniprot_id  \\\n",
       "0  P16473|KQAXOVRIAHANRP-UHFFFAOYSA-N      31622.8008     P16473   \n",
       "1  Q6W5P4|PDKNDDNVRANJIM-UHFFFAOYSA-N      10000.0000     Q6W5P4   \n",
       "\n",
       "                     inchi_key  endpoint dataset  \n",
       "0  KQAXOVRIAHANRP-UHFFFAOYSA-N  0.250000   train  \n",
       "1  PDKNDDNVRANJIM-UHFFFAOYSA-N  0.333333   train  "
      ]
     },
     "execution_count": 4,
     "metadata": {},
     "output_type": "execute_result"
    }
   ],
   "source": [
    "df.rename(columns={iden: \"standard_value\"}, inplace=True)\n",
    "df.head(2)"
   ]
  },
  {
   "cell_type": "code",
   "execution_count": 5,
   "metadata": {},
   "outputs": [
    {
     "data": {
      "text/html": [
       "<div>\n",
       "<style scoped>\n",
       "    .dataframe tbody tr th:only-of-type {\n",
       "        vertical-align: middle;\n",
       "    }\n",
       "\n",
       "    .dataframe tbody tr th {\n",
       "        vertical-align: top;\n",
       "    }\n",
       "\n",
       "    .dataframe thead th {\n",
       "        text-align: right;\n",
       "    }\n",
       "</style>\n",
       "<table border=\"1\" class=\"dataframe\">\n",
       "  <thead>\n",
       "    <tr style=\"text-align: right;\">\n",
       "      <th></th>\n",
       "      <th>combined_id</th>\n",
       "      <th>standard_value</th>\n",
       "      <th>uniprot_id</th>\n",
       "      <th>inchi_key</th>\n",
       "      <th>endpoint</th>\n",
       "      <th>dataset</th>\n",
       "      <th>standard_units</th>\n",
       "    </tr>\n",
       "  </thead>\n",
       "  <tbody>\n",
       "    <tr>\n",
       "      <th>0</th>\n",
       "      <td>P16473|KQAXOVRIAHANRP-UHFFFAOYSA-N</td>\n",
       "      <td>31622.8008</td>\n",
       "      <td>P16473</td>\n",
       "      <td>KQAXOVRIAHANRP-UHFFFAOYSA-N</td>\n",
       "      <td>0.250000</td>\n",
       "      <td>train</td>\n",
       "      <td>nM</td>\n",
       "    </tr>\n",
       "    <tr>\n",
       "      <th>1</th>\n",
       "      <td>Q6W5P4|PDKNDDNVRANJIM-UHFFFAOYSA-N</td>\n",
       "      <td>10000.0000</td>\n",
       "      <td>Q6W5P4</td>\n",
       "      <td>PDKNDDNVRANJIM-UHFFFAOYSA-N</td>\n",
       "      <td>0.333333</td>\n",
       "      <td>train</td>\n",
       "      <td>nM</td>\n",
       "    </tr>\n",
       "  </tbody>\n",
       "</table>\n",
       "</div>"
      ],
      "text/plain": [
       "                          combined_id  standard_value uniprot_id  \\\n",
       "0  P16473|KQAXOVRIAHANRP-UHFFFAOYSA-N      31622.8008     P16473   \n",
       "1  Q6W5P4|PDKNDDNVRANJIM-UHFFFAOYSA-N      10000.0000     Q6W5P4   \n",
       "\n",
       "                     inchi_key  endpoint dataset standard_units  \n",
       "0  KQAXOVRIAHANRP-UHFFFAOYSA-N  0.250000   train             nM  \n",
       "1  PDKNDDNVRANJIM-UHFFFAOYSA-N  0.333333   train             nM  "
      ]
     },
     "execution_count": 5,
     "metadata": {},
     "output_type": "execute_result"
    }
   ],
   "source": [
    "df[\"standard_units\"]= \"nM\"\n",
    "df.head(2)"
   ]
  },
  {
   "cell_type": "markdown",
   "metadata": {},
   "source": [
    "# Add Protein Seqeunce"
   ]
  },
  {
   "cell_type": "code",
   "execution_count": 6,
   "metadata": {},
   "outputs": [],
   "source": [
    "from pathlib import Path\n",
    "from Bio import SeqIO\n",
    "from gpcrscan.data.objects import SeqDict\n",
    "from gpcrscan.data.objects import SeqInfo"
   ]
  },
  {
   "cell_type": "markdown",
   "metadata": {},
   "source": [
    "# default 708 MSA"
   ]
  },
  {
   "cell_type": "code",
   "execution_count": null,
   "metadata": {},
   "outputs": [],
   "source": [
    "fasta_file = \"../data/idmapping_2023_12_05.fasta\"\n",
    "\n",
    "\n",
    "def mod_parse_fasta(fasta: str | Path, splitter: str = \"|\"):\n",
    "    \"\"\"Parse fasta file.\"\"\"\n",
    "    SEQ_DICT = {}\n",
    "    duplicates = []\n",
    "\n",
    "    for record in SeqIO.parse(fasta, \"fasta\"):\n",
    "        id = record.id\n",
    "        id = id.upper()\n",
    "        # print(id)\n",
    "        uniprot_id = id.split(\"|\")[1]\n",
    "        if uniprot_id in SEQ_DICT:\n",
    "            print(\"Duplicated uniprot_id: \", uniprot_id)\n",
    "            duplicates.append(uniprot_id)\n",
    "            continue\n",
    "\n",
    "        SEQ_DICT[uniprot_id] = SeqInfo(id=id, description=record.description, seq=record.seq, splitter=splitter)\n",
    "    print(\"Number of duplicated uniprot_ids: \", len(duplicates))\n",
    "    return SeqDict(SEQ_DICT)\n",
    "\n",
    "\n",
    "\n",
    "seqeunce_db = mod_parse_fasta(fasta_file)"
   ]
  },
  {
   "cell_type": "markdown",
   "metadata": {},
   "source": [
    "# Custom Protein Seq"
   ]
  },
  {
   "cell_type": "code",
   "execution_count": 7,
   "metadata": {},
   "outputs": [
    {
     "name": "stdout",
     "output_type": "stream",
     "text": [
      "Number of duplicated uniprot_ids:  0\n"
     ]
    }
   ],
   "source": [
    "import json\n",
    "\n",
    "def mod_parse_fasta_from_jsnon(json_file: str | Path, splitter: str = \"|\"):\n",
    "    \"\"\"Parse fasta file.\"\"\"\n",
    "    SEQ_DICT = {}\n",
    "    duplicates = []\n",
    "\n",
    "    with open(json_file, \"r\") as f:\n",
    "        new_msa_complete = json.load(f)\n",
    "    for record in new_msa_complete: \n",
    "        uniprot_id = record.upper()\n",
    "        id = record.upper()\n",
    "        description = record\n",
    "        seq = new_msa_complete[record]\n",
    "\n",
    "        SEQ_DICT[uniprot_id] = SeqInfo(id=id, description=description, seq=seq, splitter=splitter)\n",
    "    print(\"Number of duplicated uniprot_ids: \", len(duplicates))\n",
    "    return SeqDict(SEQ_DICT)\n",
    "\n",
    "new_msa_complete=  \"../data/complete_aligned_sequence_uniport.json\"\n",
    "\n",
    "seqeunce_db = mod_parse_fasta_from_jsnon(new_msa_complete)"
   ]
  },
  {
   "cell_type": "code",
   "execution_count": 8,
   "metadata": {},
   "outputs": [
    {
     "data": {
      "text/plain": [
       "SeqInfo(id='P28222', description='P28222', seq='-------------------------------------------------------------------------------------------------------------------------------------------------------------------------------------------------------------------------------------------------------------------------------------------------------------------------------------------------------------------------------------------------------------------------------------------------------------------------------------------------------------------------------------------------------------------------------------MEEPGAQCAPPPPAGSETWVPQANLSSAPSQNCSAKDYIYQDSI---------SLPWKVLLVMLLAL-ITLATTLSNAFVIATVYRT--------------RKLH--------------TPANYLIASLAVTDLLVSILVMPISTMYTVTG--------------------RW-TL-----------------GQVVCDFWLSSDITCCTASILHLCVIALDRYWAITD----------------------AVEYSAKR-----------------TPKRAAVMIALV-WVFSISISLPPFFW------RQAKAEEEVSE----------------------------------------------CVV-------------------------------------------------------------------------------------------------------------------------------------------------------NTD------------HILYTV-Y-STVGAFYFPTLLLIALYGRIYVEARSRILKQTP------------NRTGKRLTRAQLITDSPGSTSSVTSINSR---------------------------------------------------------------------------------------------------------------------------------------------------------VPDVPSESGSPVYVNQVKVRVSDALLEKK----------KLMAARERKATKTLGIILGAFIV-CWLPFFIISLVMPIC--------------------KDA-----------CWF-------HLAIFDFFTWLGYL-NSLINPII-YTMS----------NEDFKQAFHKLI--------------RFKCTS------------------------------------------------------------------------------------------------------------------------------------------------------------------------------------------------------------------------------------------------------------------------------------------------------------------------------------------------------------------------------', splitter='|')"
      ]
     },
     "execution_count": 8,
     "metadata": {},
     "output_type": "execute_result"
    }
   ],
   "source": [
    "seqeunce_db.view(1)"
   ]
  },
  {
   "cell_type": "code",
   "execution_count": 9,
   "metadata": {},
   "outputs": [
    {
     "data": {
      "text/plain": [
       "dict_keys(['P08908', 'P28222', 'P28221', 'P28566', 'P30939', 'P28223', 'P41595', 'P28335', 'Q13639', 'P47898', 'P50406', 'P34969', 'P11229', 'P08172', 'P20309', 'P08173', 'P08912', 'P35348', 'P35368', 'P25100', 'P08913', 'P18089', 'P18825', 'P08588', 'P07550', 'P13945', 'P21728', 'P14416', 'P35462', 'P21917', 'P21918', 'P35367', 'P25021', 'Q9Y5N1', 'Q9H3N8', 'Q96RJ0', 'P30556', 'P50052', 'P35414', 'P28336', 'P30550', 'P32247', 'P46663', 'P30411', 'P32238', 'P32239', 'Q16581', 'P21730', 'Q9P296', 'P25101', 'P24530', 'P21462', 'P25090', 'P25089', 'P47211', 'O43603', 'O60755', 'Q92847', 'P30968', 'Q969F8', 'Q99705', 'Q969V1', 'Q01726', 'Q01718', 'P41968', 'P32245', 'P33032', 'O43193', 'Q9HB89', 'Q9GZQ4', 'Q9GZQ6', 'Q9Y5X5', 'Q6W5P4', 'P48145', 'P25929', 'P49146', 'P50391', 'Q15761', 'P30989', 'O95665', 'P41143', 'P41145', 'P35372', 'P41146', 'O43613', 'O43614', 'Q96P65', 'P49683', 'P25116', 'P55085', 'Q96RI0', 'Q9HBX9', 'Q8WXD0', 'Q9NSD7', 'Q8TDU9', 'P30872', 'P30874', 'P32745', 'P31391', 'P35346', 'P25103', 'P21452', 'P29371', 'P34981', 'Q9UKP6', 'P37288', 'P47901', 'P30518', 'P30559', 'Q99788', 'P46091', 'P32246', 'P41597', 'P51677', 'P51679', 'P51681', 'P51684', 'P32248', 'P51685', 'P51686', 'P46092', 'P25024', 'P25025', 'P49682', 'P61073', 'P32302', 'O00574', 'P49238', 'P25106', 'O00421', 'P23945', 'P22888', 'P16473', 'Q8TCW9', 'Q8NFJ6', 'O14842', 'O15552', 'O14843', 'Q5NUL3', 'Q15722', 'Q9NPC1', 'Q9Y271', 'Q9NS75', 'Q8TDS5', 'Q92633', 'Q9HBW0', 'Q9UBY5', 'Q99677', 'Q9H1C0', 'P43657', 'P21453', 'O95136', 'Q99500', 'O95977', 'Q9H228', 'P21554', 'P34972', 'Q14330', 'Q9Y2T6', 'Q8TDV5', 'P25105', 'Q13258', 'Q9Y5Y4', 'P34995', 'P43116', 'P43115', 'P35408', 'P43088', 'P43119', 'P21731', 'P48039', 'P49286', 'P30542', 'P29274', 'P29275', 'P0DMS8', 'P47900', 'P41231', 'P51582', 'Q15077', 'Q96G91', 'Q9H244', 'Q9BPV8', 'Q15391', 'Q8TDU6', 'Q99527', 'Q9BXC0', 'Q8TDS4', 'P49019', 'Q96P68', 'Q9BXA5', 'Q9H255', 'P46089', 'P46093', 'P46095', 'P49685', 'Q13304', 'Q9NS67', 'O75388', 'Q9UPC5', 'Q9HC97', 'O60883', 'O43194', 'Q9Y2T5', 'Q9BZJ6', 'Q8IYL9', 'Q15743', 'Q9NQS5', 'Q9BY21', 'Q9GZN0', 'Q9UNW8', 'Q8IZ08', 'Q6DWJ6', 'Q7Z601', 'Q9BXC1', 'P32249', 'P04201', 'Q8TDS7', 'Q96LB2', 'Q96LB1', 'Q96LA9', 'O00398', 'O14804', 'P30988', 'Q16602', 'P34998', 'Q13324', 'Q02643', 'P48546', 'P43220', 'O95838', 'P47871', 'P47872', 'Q03431', 'P41586', 'P32241', 'P41587', 'Q86Y34', 'P41180', 'Q9UBS5', 'Q13255', 'Q14416', 'Q14832', 'Q14833', 'P41594', 'O15303', 'Q14831', 'O00222', 'Q5T6X5', 'Q9UP38', 'Q14332', 'O75084', 'Q99835', 'Q9NYW7', 'Q9NYW6', 'Q9NYW5', 'Q9NYW4', 'Q9NYW3', 'Q9NYW2', 'Q9NYW1', 'Q9NYW0', 'Q9NYV9', 'Q9NYV8', 'Q9NYV7', 'P59542', 'P59543', 'P59541', 'P59538', 'P59533', 'P59534', 'P59535', 'P59536', 'Q7RTR8', 'P59537', 'P59539', 'P59540', 'P59544', 'P59551'])"
      ]
     },
     "execution_count": 9,
     "metadata": {},
     "output_type": "execute_result"
    }
   ],
   "source": [
    "seqeunce_db.seq_dict.keys()"
   ]
  },
  {
   "cell_type": "code",
   "execution_count": 10,
   "metadata": {},
   "outputs": [],
   "source": [
    "seqeunce_db.seq_dict.get(\"5HT1B\")"
   ]
  },
  {
   "cell_type": "code",
   "execution_count": 11,
   "metadata": {},
   "outputs": [
    {
     "data": {
      "text/html": [
       "<div>\n",
       "<style scoped>\n",
       "    .dataframe tbody tr th:only-of-type {\n",
       "        vertical-align: middle;\n",
       "    }\n",
       "\n",
       "    .dataframe tbody tr th {\n",
       "        vertical-align: top;\n",
       "    }\n",
       "\n",
       "    .dataframe thead th {\n",
       "        text-align: right;\n",
       "    }\n",
       "</style>\n",
       "<table border=\"1\" class=\"dataframe\">\n",
       "  <thead>\n",
       "    <tr style=\"text-align: right;\">\n",
       "      <th></th>\n",
       "      <th>combined_id</th>\n",
       "      <th>standard_value</th>\n",
       "      <th>uniprot_id</th>\n",
       "      <th>inchi_key</th>\n",
       "      <th>endpoint</th>\n",
       "      <th>dataset</th>\n",
       "      <th>standard_units</th>\n",
       "    </tr>\n",
       "  </thead>\n",
       "  <tbody>\n",
       "    <tr>\n",
       "      <th>0</th>\n",
       "      <td>P16473|KQAXOVRIAHANRP-UHFFFAOYSA-N</td>\n",
       "      <td>31622.8008</td>\n",
       "      <td>P16473</td>\n",
       "      <td>KQAXOVRIAHANRP-UHFFFAOYSA-N</td>\n",
       "      <td>0.250000</td>\n",
       "      <td>train</td>\n",
       "      <td>nM</td>\n",
       "    </tr>\n",
       "    <tr>\n",
       "      <th>1</th>\n",
       "      <td>Q6W5P4|PDKNDDNVRANJIM-UHFFFAOYSA-N</td>\n",
       "      <td>10000.0000</td>\n",
       "      <td>Q6W5P4</td>\n",
       "      <td>PDKNDDNVRANJIM-UHFFFAOYSA-N</td>\n",
       "      <td>0.333333</td>\n",
       "      <td>train</td>\n",
       "      <td>nM</td>\n",
       "    </tr>\n",
       "    <tr>\n",
       "      <th>2</th>\n",
       "      <td>P43220|MADSTIMKHBTMDS-UHFFFAOYSA-N</td>\n",
       "      <td>28183.8008</td>\n",
       "      <td>P43220</td>\n",
       "      <td>MADSTIMKHBTMDS-UHFFFAOYSA-N</td>\n",
       "      <td>0.258333</td>\n",
       "      <td>train</td>\n",
       "      <td>nM</td>\n",
       "    </tr>\n",
       "    <tr>\n",
       "      <th>3</th>\n",
       "      <td>P16473|XKJYQGQMUPMJPB-UHFFFAOYSA-N</td>\n",
       "      <td>19952.5996</td>\n",
       "      <td>P16473</td>\n",
       "      <td>XKJYQGQMUPMJPB-UHFFFAOYSA-N</td>\n",
       "      <td>0.283333</td>\n",
       "      <td>train</td>\n",
       "      <td>nM</td>\n",
       "    </tr>\n",
       "    <tr>\n",
       "      <th>4</th>\n",
       "      <td>O14842|STMQJGCAFZYVJO-UHFFFAOYSA-N</td>\n",
       "      <td>69.0000</td>\n",
       "      <td>O14842</td>\n",
       "      <td>STMQJGCAFZYVJO-UHFFFAOYSA-N</td>\n",
       "      <td>0.693525</td>\n",
       "      <td>train</td>\n",
       "      <td>nM</td>\n",
       "    </tr>\n",
       "  </tbody>\n",
       "</table>\n",
       "</div>"
      ],
      "text/plain": [
       "                          combined_id  standard_value uniprot_id  \\\n",
       "0  P16473|KQAXOVRIAHANRP-UHFFFAOYSA-N      31622.8008     P16473   \n",
       "1  Q6W5P4|PDKNDDNVRANJIM-UHFFFAOYSA-N      10000.0000     Q6W5P4   \n",
       "2  P43220|MADSTIMKHBTMDS-UHFFFAOYSA-N      28183.8008     P43220   \n",
       "3  P16473|XKJYQGQMUPMJPB-UHFFFAOYSA-N      19952.5996     P16473   \n",
       "4  O14842|STMQJGCAFZYVJO-UHFFFAOYSA-N         69.0000     O14842   \n",
       "\n",
       "                     inchi_key  endpoint dataset standard_units  \n",
       "0  KQAXOVRIAHANRP-UHFFFAOYSA-N  0.250000   train             nM  \n",
       "1  PDKNDDNVRANJIM-UHFFFAOYSA-N  0.333333   train             nM  \n",
       "2  MADSTIMKHBTMDS-UHFFFAOYSA-N  0.258333   train             nM  \n",
       "3  XKJYQGQMUPMJPB-UHFFFAOYSA-N  0.283333   train             nM  \n",
       "4  STMQJGCAFZYVJO-UHFFFAOYSA-N  0.693525   train             nM  "
      ]
     },
     "execution_count": 11,
     "metadata": {},
     "output_type": "execute_result"
    }
   ],
   "source": [
    "df.head()"
   ]
  },
  {
   "cell_type": "code",
   "execution_count": 12,
   "metadata": {},
   "outputs": [],
   "source": [
    "def add_protein_seq(row, seqeunce):\n",
    "    uniprot_id = row[\"uniprot_id\"]\n",
    "    _Seq = seqeunce.get(uniprot_id, None)\n",
    "    if _Seq is None:\n",
    "        print(\"No sequence found for: \", uniprot_id)\n",
    "        return None\n",
    "    seq = \"\".join(_Seq.seq)\n",
    "    return seq\n"
   ]
  },
  {
   "cell_type": "code",
   "execution_count": 13,
   "metadata": {},
   "outputs": [
    {
     "name": "stderr",
     "output_type": "stream",
     "text": [
      "Pandas Apply: 100%|██████████| 235681/235681 [00:05<00:00, 40757.59it/s]\n"
     ]
    }
   ],
   "source": [
    "df[\"protein_seq\"] = df.swifter.apply(add_protein_seq, axis=1, seqeunce=seqeunce_db.seq_dict)"
   ]
  },
  {
   "cell_type": "code",
   "execution_count": 14,
   "metadata": {},
   "outputs": [
    {
     "name": "stdout",
     "output_type": "stream",
     "text": [
      "(235681, 8)\n"
     ]
    },
    {
     "data": {
      "text/html": [
       "<div>\n",
       "<style scoped>\n",
       "    .dataframe tbody tr th:only-of-type {\n",
       "        vertical-align: middle;\n",
       "    }\n",
       "\n",
       "    .dataframe tbody tr th {\n",
       "        vertical-align: top;\n",
       "    }\n",
       "\n",
       "    .dataframe thead th {\n",
       "        text-align: right;\n",
       "    }\n",
       "</style>\n",
       "<table border=\"1\" class=\"dataframe\">\n",
       "  <thead>\n",
       "    <tr style=\"text-align: right;\">\n",
       "      <th></th>\n",
       "      <th>combined_id</th>\n",
       "      <th>standard_value</th>\n",
       "      <th>uniprot_id</th>\n",
       "      <th>inchi_key</th>\n",
       "      <th>endpoint</th>\n",
       "      <th>dataset</th>\n",
       "      <th>standard_units</th>\n",
       "      <th>protein_seq</th>\n",
       "    </tr>\n",
       "  </thead>\n",
       "  <tbody>\n",
       "    <tr>\n",
       "      <th>0</th>\n",
       "      <td>P16473|KQAXOVRIAHANRP-UHFFFAOYSA-N</td>\n",
       "      <td>31622.8008</td>\n",
       "      <td>P16473</td>\n",
       "      <td>KQAXOVRIAHANRP-UHFFFAOYSA-N</td>\n",
       "      <td>0.250000</td>\n",
       "      <td>train</td>\n",
       "      <td>nM</td>\n",
       "      <td>----------------------------------------------...</td>\n",
       "    </tr>\n",
       "    <tr>\n",
       "      <th>1</th>\n",
       "      <td>Q6W5P4|PDKNDDNVRANJIM-UHFFFAOYSA-N</td>\n",
       "      <td>10000.0000</td>\n",
       "      <td>Q6W5P4</td>\n",
       "      <td>PDKNDDNVRANJIM-UHFFFAOYSA-N</td>\n",
       "      <td>0.333333</td>\n",
       "      <td>train</td>\n",
       "      <td>nM</td>\n",
       "      <td>----------------------------------------------...</td>\n",
       "    </tr>\n",
       "  </tbody>\n",
       "</table>\n",
       "</div>"
      ],
      "text/plain": [
       "                          combined_id  standard_value uniprot_id  \\\n",
       "0  P16473|KQAXOVRIAHANRP-UHFFFAOYSA-N      31622.8008     P16473   \n",
       "1  Q6W5P4|PDKNDDNVRANJIM-UHFFFAOYSA-N      10000.0000     Q6W5P4   \n",
       "\n",
       "                     inchi_key  endpoint dataset standard_units  \\\n",
       "0  KQAXOVRIAHANRP-UHFFFAOYSA-N  0.250000   train             nM   \n",
       "1  PDKNDDNVRANJIM-UHFFFAOYSA-N  0.333333   train             nM   \n",
       "\n",
       "                                         protein_seq  \n",
       "0  ----------------------------------------------...  \n",
       "1  ----------------------------------------------...  "
      ]
     },
     "execution_count": 14,
     "metadata": {},
     "output_type": "execute_result"
    }
   ],
   "source": [
    "print(df.shape)\n",
    "df.head(2)\n"
   ]
  },
  {
   "cell_type": "code",
   "execution_count": 15,
   "metadata": {},
   "outputs": [
    {
     "data": {
      "text/plain": [
       "0"
      ]
     },
     "execution_count": 15,
     "metadata": {},
     "output_type": "execute_result"
    }
   ],
   "source": [
    "df.protein_seq.isna().sum()"
   ]
  },
  {
   "cell_type": "markdown",
   "metadata": {},
   "source": [
    "# Add smiles from INCHI_KEY"
   ]
  },
  {
   "cell_type": "code",
   "execution_count": 16,
   "metadata": {},
   "outputs": [
    {
     "data": {
      "text/html": [
       "<div>\n",
       "<style scoped>\n",
       "    .dataframe tbody tr th:only-of-type {\n",
       "        vertical-align: middle;\n",
       "    }\n",
       "\n",
       "    .dataframe tbody tr th {\n",
       "        vertical-align: top;\n",
       "    }\n",
       "\n",
       "    .dataframe thead th {\n",
       "        text-align: right;\n",
       "    }\n",
       "</style>\n",
       "<table border=\"1\" class=\"dataframe\">\n",
       "  <thead>\n",
       "    <tr style=\"text-align: right;\">\n",
       "      <th></th>\n",
       "      <th>0</th>\n",
       "      <th>1</th>\n",
       "    </tr>\n",
       "  </thead>\n",
       "  <tbody>\n",
       "    <tr>\n",
       "      <th>0</th>\n",
       "      <td>QAISFVUWGZBCDK-UHFFFAOYSA-N</td>\n",
       "      <td>O=c1cc(O)nc(SCc2ccccc2)[nH]1</td>\n",
       "    </tr>\n",
       "    <tr>\n",
       "      <th>1</th>\n",
       "      <td>AMBCFOKGIINHKS-UHFFFAOYSA-N</td>\n",
       "      <td>O=C(NNC(=S)NC1CC2CCC1C2)c1ccc(Cl)cc1</td>\n",
       "    </tr>\n",
       "  </tbody>\n",
       "</table>\n",
       "</div>"
      ],
      "text/plain": [
       "                             0                                     1\n",
       "0  QAISFVUWGZBCDK-UHFFFAOYSA-N          O=c1cc(O)nc(SCc2ccccc2)[nH]1\n",
       "1  AMBCFOKGIINHKS-UHFFFAOYSA-N  O=C(NNC(=S)NC1CC2CCC1C2)c1ccc(Cl)cc1"
      ]
     },
     "execution_count": 16,
     "metadata": {},
     "output_type": "execute_result"
    }
   ],
   "source": [
    "inchi_db =\"/home/lab09/DEV/GPCRScan/data/AzothBio/AZB/xmol_gpcr.tsv\"\n",
    "inchi_db_df =load_dataframe(inchi_db, header=None)\n",
    "inchi_db_df.head(2)"
   ]
  },
  {
   "cell_type": "code",
   "execution_count": 17,
   "metadata": {},
   "outputs": [
    {
     "data": {
      "text/html": [
       "<div>\n",
       "<style scoped>\n",
       "    .dataframe tbody tr th:only-of-type {\n",
       "        vertical-align: middle;\n",
       "    }\n",
       "\n",
       "    .dataframe tbody tr th {\n",
       "        vertical-align: top;\n",
       "    }\n",
       "\n",
       "    .dataframe thead th {\n",
       "        text-align: right;\n",
       "    }\n",
       "</style>\n",
       "<table border=\"1\" class=\"dataframe\">\n",
       "  <thead>\n",
       "    <tr style=\"text-align: right;\">\n",
       "      <th></th>\n",
       "      <th>inchi_key</th>\n",
       "      <th>smiles</th>\n",
       "    </tr>\n",
       "  </thead>\n",
       "  <tbody>\n",
       "    <tr>\n",
       "      <th>0</th>\n",
       "      <td>QAISFVUWGZBCDK-UHFFFAOYSA-N</td>\n",
       "      <td>O=c1cc(O)nc(SCc2ccccc2)[nH]1</td>\n",
       "    </tr>\n",
       "    <tr>\n",
       "      <th>1</th>\n",
       "      <td>AMBCFOKGIINHKS-UHFFFAOYSA-N</td>\n",
       "      <td>O=C(NNC(=S)NC1CC2CCC1C2)c1ccc(Cl)cc1</td>\n",
       "    </tr>\n",
       "  </tbody>\n",
       "</table>\n",
       "</div>"
      ],
      "text/plain": [
       "                     inchi_key                                smiles\n",
       "0  QAISFVUWGZBCDK-UHFFFAOYSA-N          O=c1cc(O)nc(SCc2ccccc2)[nH]1\n",
       "1  AMBCFOKGIINHKS-UHFFFAOYSA-N  O=C(NNC(=S)NC1CC2CCC1C2)c1ccc(Cl)cc1"
      ]
     },
     "execution_count": 17,
     "metadata": {},
     "output_type": "execute_result"
    }
   ],
   "source": [
    "inchi_db_df.columns = [\"inchi_key\", \"smiles\"]\n",
    "inchi_db_df.head(2)\n"
   ]
  },
  {
   "cell_type": "code",
   "execution_count": 18,
   "metadata": {},
   "outputs": [
    {
     "data": {
      "text/html": [
       "<div>\n",
       "<style scoped>\n",
       "    .dataframe tbody tr th:only-of-type {\n",
       "        vertical-align: middle;\n",
       "    }\n",
       "\n",
       "    .dataframe tbody tr th {\n",
       "        vertical-align: top;\n",
       "    }\n",
       "\n",
       "    .dataframe thead th {\n",
       "        text-align: right;\n",
       "    }\n",
       "</style>\n",
       "<table border=\"1\" class=\"dataframe\">\n",
       "  <thead>\n",
       "    <tr style=\"text-align: right;\">\n",
       "      <th></th>\n",
       "      <th>combined_id</th>\n",
       "      <th>standard_value</th>\n",
       "      <th>uniprot_id</th>\n",
       "      <th>inchi_key</th>\n",
       "      <th>endpoint</th>\n",
       "      <th>dataset</th>\n",
       "      <th>standard_units</th>\n",
       "      <th>protein_seq</th>\n",
       "      <th>smiles</th>\n",
       "    </tr>\n",
       "  </thead>\n",
       "  <tbody>\n",
       "    <tr>\n",
       "      <th>0</th>\n",
       "      <td>P16473|KQAXOVRIAHANRP-UHFFFAOYSA-N</td>\n",
       "      <td>31622.8008</td>\n",
       "      <td>P16473</td>\n",
       "      <td>KQAXOVRIAHANRP-UHFFFAOYSA-N</td>\n",
       "      <td>0.250000</td>\n",
       "      <td>train</td>\n",
       "      <td>nM</td>\n",
       "      <td>----------------------------------------------...</td>\n",
       "      <td>Cc1nc(N2CCOCC2)c2nc(-c3ccccc3)n(CCCN3CCCCC3C)c2n1</td>\n",
       "    </tr>\n",
       "    <tr>\n",
       "      <th>1</th>\n",
       "      <td>Q6W5P4|PDKNDDNVRANJIM-UHFFFAOYSA-N</td>\n",
       "      <td>10000.0000</td>\n",
       "      <td>Q6W5P4</td>\n",
       "      <td>PDKNDDNVRANJIM-UHFFFAOYSA-N</td>\n",
       "      <td>0.333333</td>\n",
       "      <td>train</td>\n",
       "      <td>nM</td>\n",
       "      <td>----------------------------------------------...</td>\n",
       "      <td>CCOC(=O)c1c(NC(=O)CCc2ccc(CC)o2)sc(C)c1C</td>\n",
       "    </tr>\n",
       "  </tbody>\n",
       "</table>\n",
       "</div>"
      ],
      "text/plain": [
       "                          combined_id  standard_value uniprot_id  \\\n",
       "0  P16473|KQAXOVRIAHANRP-UHFFFAOYSA-N      31622.8008     P16473   \n",
       "1  Q6W5P4|PDKNDDNVRANJIM-UHFFFAOYSA-N      10000.0000     Q6W5P4   \n",
       "\n",
       "                     inchi_key  endpoint dataset standard_units  \\\n",
       "0  KQAXOVRIAHANRP-UHFFFAOYSA-N  0.250000   train             nM   \n",
       "1  PDKNDDNVRANJIM-UHFFFAOYSA-N  0.333333   train             nM   \n",
       "\n",
       "                                         protein_seq  \\\n",
       "0  ----------------------------------------------...   \n",
       "1  ----------------------------------------------...   \n",
       "\n",
       "                                              smiles  \n",
       "0  Cc1nc(N2CCOCC2)c2nc(-c3ccccc3)n(CCCN3CCCCC3C)c2n1  \n",
       "1           CCOC(=O)c1c(NC(=O)CCc2ccc(CC)o2)sc(C)c1C  "
      ]
     },
     "execution_count": 18,
     "metadata": {},
     "output_type": "execute_result"
    }
   ],
   "source": [
    "df = df.merge(inchi_db_df, on=\"inchi_key\", how=\"left\")\n",
    "df.head(2)"
   ]
  },
  {
   "cell_type": "code",
   "execution_count": 19,
   "metadata": {},
   "outputs": [
    {
     "data": {
      "text/plain": [
       "0"
      ]
     },
     "execution_count": 19,
     "metadata": {},
     "output_type": "execute_result"
    }
   ],
   "source": [
    "df.smiles.isna().sum()"
   ]
  },
  {
   "cell_type": "code",
   "execution_count": 20,
   "metadata": {},
   "outputs": [
    {
     "data": {
      "text/html": [
       "<div>\n",
       "<style scoped>\n",
       "    .dataframe tbody tr th:only-of-type {\n",
       "        vertical-align: middle;\n",
       "    }\n",
       "\n",
       "    .dataframe tbody tr th {\n",
       "        vertical-align: top;\n",
       "    }\n",
       "\n",
       "    .dataframe thead th {\n",
       "        text-align: right;\n",
       "    }\n",
       "</style>\n",
       "<table border=\"1\" class=\"dataframe\">\n",
       "  <thead>\n",
       "    <tr style=\"text-align: right;\">\n",
       "      <th></th>\n",
       "      <th>combined_id</th>\n",
       "      <th>standard_value</th>\n",
       "      <th>uniprot_id</th>\n",
       "      <th>inchi_key</th>\n",
       "      <th>endpoint</th>\n",
       "      <th>dataset</th>\n",
       "      <th>standard_units</th>\n",
       "      <th>protein_seq</th>\n",
       "      <th>smiles</th>\n",
       "    </tr>\n",
       "  </thead>\n",
       "  <tbody>\n",
       "  </tbody>\n",
       "</table>\n",
       "</div>"
      ],
      "text/plain": [
       "Empty DataFrame\n",
       "Columns: [combined_id, standard_value, uniprot_id, inchi_key, endpoint, dataset, standard_units, protein_seq, smiles]\n",
       "Index: []"
      ]
     },
     "execution_count": 20,
     "metadata": {},
     "output_type": "execute_result"
    }
   ],
   "source": [
    "df[df.smiles.isna()]"
   ]
  },
  {
   "cell_type": "code",
   "execution_count": 21,
   "metadata": {},
   "outputs": [
    {
     "data": {
      "text/plain": [
       "Series([], Name: inchi_key, dtype: object)"
      ]
     },
     "execution_count": 21,
     "metadata": {},
     "output_type": "execute_result"
    }
   ],
   "source": [
    "df[df.smiles.isna()].inchi_key"
   ]
  },
  {
   "cell_type": "markdown",
   "metadata": {},
   "source": [
    "# Add canonical Smiles"
   ]
  },
  {
   "cell_type": "code",
   "execution_count": 22,
   "metadata": {},
   "outputs": [],
   "source": [
    "num_cores = os.cpu_count() - 2\n"
   ]
  },
  {
   "cell_type": "code",
   "execution_count": 23,
   "metadata": {},
   "outputs": [
    {
     "name": "stderr",
     "output_type": "stream",
     "text": [
      "Pandas Apply: 100%|██████████| 235681/235681 [00:54<00:00, 4352.17it/s]\n"
     ]
    }
   ],
   "source": [
    "df[\"canonical_smiles\"] = (\n",
    "   df.swifter.allow_dask_on_strings(enable=True)\n",
    "    .set_npartitions(num_cores)\n",
    "    .apply(add_canonical_smi, axis=1, args=(\"smiles\",))\n",
    ")"
   ]
  },
  {
   "cell_type": "code",
   "execution_count": 24,
   "metadata": {},
   "outputs": [],
   "source": [
    "## Run this is assert fails\n",
    "# df = df[~df.canonical_smiles.isna()]\n",
    "assert df.canonical_smiles.isna().sum() ==0 , \"Some failed to convert to canonical smiles. Remove them before proceeding\"\n"
   ]
  },
  {
   "cell_type": "markdown",
   "metadata": {},
   "source": [
    "# Add desc"
   ]
  },
  {
   "cell_type": "code",
   "execution_count": 25,
   "metadata": {},
   "outputs": [
    {
     "name": "stderr",
     "output_type": "stream",
     "text": [
      "Pandas Apply: 100%|██████████| 235681/235681 [24:46<00:00, 158.54it/s]\n"
     ]
    }
   ],
   "source": [
    "df[\"desc\"] = (\n",
    "   df.swifter.allow_dask_on_strings(enable=True)\n",
    "    .set_npartitions(num_cores)\n",
    "    .apply(add_desc, axis=1, args=(\"canonical_smiles\",))\n",
    ")"
   ]
  },
  {
   "cell_type": "code",
   "execution_count": 26,
   "metadata": {},
   "outputs": [],
   "source": [
    "# df = df[~df.desc.isna()]\n",
    "assert df.desc.isna().sum() == 0, \"Some failed to convert to descriptors. Remove them before proceeding\""
   ]
  },
  {
   "cell_type": "markdown",
   "metadata": {},
   "source": [
    "# Add FP"
   ]
  },
  {
   "cell_type": "code",
   "execution_count": 27,
   "metadata": {},
   "outputs": [
    {
     "name": "stderr",
     "output_type": "stream",
     "text": [
      "Pandas Apply: 100%|██████████| 235681/235681 [02:04<00:00, 1891.31it/s]\n"
     ]
    }
   ],
   "source": [
    "df[\"charge_fp\"] = (\n",
    "    df.swifter.allow_dask_on_strings(enable=True)\n",
    "    .set_npartitions(num_cores)\n",
    "    .apply(add_charge_fp, axis=1, args=(\"canonical_smiles\",))\n",
    ")"
   ]
  },
  {
   "cell_type": "code",
   "execution_count": 28,
   "metadata": {},
   "outputs": [],
   "source": [
    "# df = df[~df.charge_fp.isna()]\n",
    "assert df.charge_fp.isna().sum() == 0, \"Some failed to convert to charge_fp. Remove them before proceeding\""
   ]
  },
  {
   "cell_type": "code",
   "execution_count": 29,
   "metadata": {},
   "outputs": [],
   "source": [
    "# df.to_csv(\"../data/processed/clean_df.csv\", index=False)"
   ]
  },
  {
   "cell_type": "markdown",
   "metadata": {},
   "source": [
    "# Add EncPoint"
   ]
  },
  {
   "cell_type": "code",
   "execution_count": 38,
   "metadata": {},
   "outputs": [
    {
     "name": "stdout",
     "output_type": "stream",
     "text": [
      "The autoreload extension is already loaded. To reload it, use:\n",
      "  %reload_ext autoreload\n"
     ]
    }
   ],
   "source": [
    "%load_ext autoreload\n",
    "%autoreload 2"
   ]
  },
  {
   "cell_type": "code",
   "execution_count": 36,
   "metadata": {},
   "outputs": [
    {
     "data": {
      "text/html": [
       "<div>\n",
       "<style scoped>\n",
       "    .dataframe tbody tr th:only-of-type {\n",
       "        vertical-align: middle;\n",
       "    }\n",
       "\n",
       "    .dataframe tbody tr th {\n",
       "        vertical-align: top;\n",
       "    }\n",
       "\n",
       "    .dataframe thead th {\n",
       "        text-align: right;\n",
       "    }\n",
       "</style>\n",
       "<table border=\"1\" class=\"dataframe\">\n",
       "  <thead>\n",
       "    <tr style=\"text-align: right;\">\n",
       "      <th></th>\n",
       "      <th>combined_id</th>\n",
       "      <th>standard_value</th>\n",
       "      <th>uniprot_id</th>\n",
       "      <th>inchi_key</th>\n",
       "      <th>endpoint</th>\n",
       "      <th>dataset</th>\n",
       "      <th>standard_units</th>\n",
       "      <th>protein_seq</th>\n",
       "      <th>smiles</th>\n",
       "      <th>canonical_smiles</th>\n",
       "      <th>desc</th>\n",
       "      <th>charge_fp</th>\n",
       "    </tr>\n",
       "  </thead>\n",
       "  <tbody>\n",
       "    <tr>\n",
       "      <th>0</th>\n",
       "      <td>P16473|KQAXOVRIAHANRP-UHFFFAOYSA-N</td>\n",
       "      <td>31622.8008</td>\n",
       "      <td>P16473</td>\n",
       "      <td>KQAXOVRIAHANRP-UHFFFAOYSA-N</td>\n",
       "      <td>0.250000</td>\n",
       "      <td>train</td>\n",
       "      <td>nM</td>\n",
       "      <td>----------------------------------------------...</td>\n",
       "      <td>Cc1nc(N2CCOCC2)c2nc(-c3ccccc3)n(CCCN3CCCCC3C)c2n1</td>\n",
       "      <td>Cc1nc(N2CCOCC2)c2nc(-c3ccccc3)n(CCCN3CCCCC3C)c2n1</td>\n",
       "      <td>(5.565795635520772, 0.6892293352791187, 5.5657...</td>\n",
       "      <td>[0, 0, 0, 0, 0, 0, 0, 0, 0, 0, 0, 0, 0, 0, 0, ...</td>\n",
       "    </tr>\n",
       "    <tr>\n",
       "      <th>1</th>\n",
       "      <td>Q6W5P4|PDKNDDNVRANJIM-UHFFFAOYSA-N</td>\n",
       "      <td>10000.0000</td>\n",
       "      <td>Q6W5P4</td>\n",
       "      <td>PDKNDDNVRANJIM-UHFFFAOYSA-N</td>\n",
       "      <td>0.333333</td>\n",
       "      <td>train</td>\n",
       "      <td>nM</td>\n",
       "      <td>----------------------------------------------...</td>\n",
       "      <td>CCOC(=O)c1c(NC(=O)CCc2ccc(CC)o2)sc(C)c1C</td>\n",
       "      <td>CCOC(=O)c1c(NC(=O)CCc2ccc(CC)o2)sc(C)c1C</td>\n",
       "      <td>(12.217143014613253, -0.3951183483290268, 12.2...</td>\n",
       "      <td>[0, 0, 0, 0, 0, 0, 0, 0, 0, 0, 0, 0, 0, 0, 0, ...</td>\n",
       "    </tr>\n",
       "    <tr>\n",
       "      <th>2</th>\n",
       "      <td>P43220|MADSTIMKHBTMDS-UHFFFAOYSA-N</td>\n",
       "      <td>28183.8008</td>\n",
       "      <td>P43220</td>\n",
       "      <td>MADSTIMKHBTMDS-UHFFFAOYSA-N</td>\n",
       "      <td>0.258333</td>\n",
       "      <td>train</td>\n",
       "      <td>nM</td>\n",
       "      <td>----------------------------------------------...</td>\n",
       "      <td>CC(=O)OC1CC(C)N(C(=O)c2ccccc2)c2ccc(C)cc21</td>\n",
       "      <td>CC(=O)OC1CC(C)N(C(=O)c2ccccc2)c2ccc(C)cc21</td>\n",
       "      <td>(13.004847726127489, -0.3127561518434543, 13.0...</td>\n",
       "      <td>[0, 0, 0, 0, 0, 0, 0, 0, 0, 0, 0, 0, 0, 0, 0, ...</td>\n",
       "    </tr>\n",
       "    <tr>\n",
       "      <th>3</th>\n",
       "      <td>P16473|XKJYQGQMUPMJPB-UHFFFAOYSA-N</td>\n",
       "      <td>19952.5996</td>\n",
       "      <td>P16473</td>\n",
       "      <td>XKJYQGQMUPMJPB-UHFFFAOYSA-N</td>\n",
       "      <td>0.283333</td>\n",
       "      <td>train</td>\n",
       "      <td>nM</td>\n",
       "      <td>----------------------------------------------...</td>\n",
       "      <td>CCOc1ccc(Nc2cc(C)nc(-n3nc(C)cc3C)n2)cc1</td>\n",
       "      <td>CCOc1ccc(Nc2cc(C)nc(-n3nc(C)cc3C)n2)cc1</td>\n",
       "      <td>(5.457601201159032, 0.5639226586971897, 5.4576...</td>\n",
       "      <td>[0, 0, 0, 0, 0, 0, 0, 0, 0, 0, 0, 0, 0, 0, 0, ...</td>\n",
       "    </tr>\n",
       "    <tr>\n",
       "      <th>4</th>\n",
       "      <td>O14842|STMQJGCAFZYVJO-UHFFFAOYSA-N</td>\n",
       "      <td>69.0000</td>\n",
       "      <td>O14842</td>\n",
       "      <td>STMQJGCAFZYVJO-UHFFFAOYSA-N</td>\n",
       "      <td>0.693525</td>\n",
       "      <td>train</td>\n",
       "      <td>nM</td>\n",
       "      <td>----------------------------------------------...</td>\n",
       "      <td>Cc1cccc(C)c1-c1cccc(COc2ccc3c(c2)CC3CC(=O)O)c1</td>\n",
       "      <td>Cc1cccc(C)c1-c1cccc(COc2ccc3c(c2)CC3CC(=O)O)c1</td>\n",
       "      <td>(10.88593753267884, -0.7363445541812139, 10.88...</td>\n",
       "      <td>[0, 0, 0, 0, 0, 0, 0, 0, 0, 0, 0, 0, 0, 0, 0, ...</td>\n",
       "    </tr>\n",
       "    <tr>\n",
       "      <th>...</th>\n",
       "      <td>...</td>\n",
       "      <td>...</td>\n",
       "      <td>...</td>\n",
       "      <td>...</td>\n",
       "      <td>...</td>\n",
       "      <td>...</td>\n",
       "      <td>...</td>\n",
       "      <td>...</td>\n",
       "      <td>...</td>\n",
       "      <td>...</td>\n",
       "      <td>...</td>\n",
       "      <td>...</td>\n",
       "    </tr>\n",
       "    <tr>\n",
       "      <th>235676</th>\n",
       "      <td>P43220|HCBHPBMOOSVXMK-UHFFFAOYSA-N</td>\n",
       "      <td>2818.3999</td>\n",
       "      <td>P43220</td>\n",
       "      <td>HCBHPBMOOSVXMK-UHFFFAOYSA-N</td>\n",
       "      <td>0.425000</td>\n",
       "      <td>train</td>\n",
       "      <td>nM</td>\n",
       "      <td>----------------------------------------------...</td>\n",
       "      <td>Cc1cc(Br)cc(C)c1OCC(=O)Nc1ccc(S(=O)(=O)Nc2nccc...</td>\n",
       "      <td>Cc1cc(Br)cc(C)c1OCC(=O)Nc1ccc(S(=O)(=O)Nc2nccc...</td>\n",
       "      <td>(12.380391481676032, -3.8341281728389043, 12.3...</td>\n",
       "      <td>[0, 0, 0, 0, 0, 0, 0, 0, 0, 0, 0, 0, 0, 0, 0, ...</td>\n",
       "    </tr>\n",
       "    <tr>\n",
       "      <th>235677</th>\n",
       "      <td>Q03431|XRYNGYFVBDYCOA-UHFFFAOYSA-N</td>\n",
       "      <td>44668.3984</td>\n",
       "      <td>Q03431</td>\n",
       "      <td>XRYNGYFVBDYCOA-UHFFFAOYSA-N</td>\n",
       "      <td>0.225000</td>\n",
       "      <td>train</td>\n",
       "      <td>nM</td>\n",
       "      <td>----------------------------------------------...</td>\n",
       "      <td>O=C(NCCSc1ccccn1)c1ccc(Cl)cc1Cl</td>\n",
       "      <td>O=C(NCCSc1ccccn1)c1ccc(Cl)cc1Cl</td>\n",
       "      <td>(11.924613725119677, -0.2006596959771556, 11.9...</td>\n",
       "      <td>[0, 0, 0, 0, 0, 0, 0, 0, 0, 0, 0, 1, 0, 0, 0, ...</td>\n",
       "    </tr>\n",
       "    <tr>\n",
       "      <th>235678</th>\n",
       "      <td>P43220|OJDAXNHNPTWBSN-UHFFFAOYSA-N</td>\n",
       "      <td>11220.2002</td>\n",
       "      <td>P43220</td>\n",
       "      <td>OJDAXNHNPTWBSN-UHFFFAOYSA-N</td>\n",
       "      <td>0.325000</td>\n",
       "      <td>train</td>\n",
       "      <td>nM</td>\n",
       "      <td>----------------------------------------------...</td>\n",
       "      <td>COc1ccc(F)cc1-c1cc(C(=O)NCc2cc(C(F)(F)F)cc(C(F...</td>\n",
       "      <td>COc1ccc(F)cc1-c1cc(C(=O)NCc2cc(C(F)(F)F)cc(C(F...</td>\n",
       "      <td>(13.542988464750248, -4.997708658889457, 13.54...</td>\n",
       "      <td>[0, 0, 0, 0, 0, 0, 0, 0, 0, 0, 0, 0, 0, 0, 0, ...</td>\n",
       "    </tr>\n",
       "    <tr>\n",
       "      <th>235679</th>\n",
       "      <td>P43220|ABKKFERIXUERCT-UHFFFAOYSA-N</td>\n",
       "      <td>10000.0000</td>\n",
       "      <td>P43220</td>\n",
       "      <td>ABKKFERIXUERCT-UHFFFAOYSA-N</td>\n",
       "      <td>0.333333</td>\n",
       "      <td>train</td>\n",
       "      <td>nM</td>\n",
       "      <td>----------------------------------------------...</td>\n",
       "      <td>CCCCc1cc(C(=O)Cc2ccccn2)c(O)cc1O</td>\n",
       "      <td>CCCCc1cc(C(=O)Cc2ccccn2)c(O)cc1O</td>\n",
       "      <td>(12.290600513353489, -0.20467734315948571, 12....</td>\n",
       "      <td>[0, 0, 0, 0, 0, 0, 0, 0, 0, 0, 0, 0, 0, 0, 1, ...</td>\n",
       "    </tr>\n",
       "    <tr>\n",
       "      <th>235680</th>\n",
       "      <td>P16473|WGDLKKMGZLAZSL-UHFFFAOYSA-N</td>\n",
       "      <td>3981.1001</td>\n",
       "      <td>P16473</td>\n",
       "      <td>WGDLKKMGZLAZSL-UHFFFAOYSA-N</td>\n",
       "      <td>0.399999</td>\n",
       "      <td>train</td>\n",
       "      <td>nM</td>\n",
       "      <td>----------------------------------------------...</td>\n",
       "      <td>Cc1oc2cc(O)ccc2c(=O)c1Oc1ccccc1</td>\n",
       "      <td>Cc1oc2cc(O)ccc2c(=O)c1Oc1ccccc1</td>\n",
       "      <td>(12.398309240362812, -0.25684901738473176, 12....</td>\n",
       "      <td>[0, 0, 0, 0, 0, 0, 0, 0, 0, 0, 0, 0, 0, 0, 0, ...</td>\n",
       "    </tr>\n",
       "  </tbody>\n",
       "</table>\n",
       "<p>235681 rows × 12 columns</p>\n",
       "</div>"
      ],
      "text/plain": [
       "                               combined_id  standard_value uniprot_id  \\\n",
       "0       P16473|KQAXOVRIAHANRP-UHFFFAOYSA-N      31622.8008     P16473   \n",
       "1       Q6W5P4|PDKNDDNVRANJIM-UHFFFAOYSA-N      10000.0000     Q6W5P4   \n",
       "2       P43220|MADSTIMKHBTMDS-UHFFFAOYSA-N      28183.8008     P43220   \n",
       "3       P16473|XKJYQGQMUPMJPB-UHFFFAOYSA-N      19952.5996     P16473   \n",
       "4       O14842|STMQJGCAFZYVJO-UHFFFAOYSA-N         69.0000     O14842   \n",
       "...                                    ...             ...        ...   \n",
       "235676  P43220|HCBHPBMOOSVXMK-UHFFFAOYSA-N       2818.3999     P43220   \n",
       "235677  Q03431|XRYNGYFVBDYCOA-UHFFFAOYSA-N      44668.3984     Q03431   \n",
       "235678  P43220|OJDAXNHNPTWBSN-UHFFFAOYSA-N      11220.2002     P43220   \n",
       "235679  P43220|ABKKFERIXUERCT-UHFFFAOYSA-N      10000.0000     P43220   \n",
       "235680  P16473|WGDLKKMGZLAZSL-UHFFFAOYSA-N       3981.1001     P16473   \n",
       "\n",
       "                          inchi_key  endpoint dataset standard_units  \\\n",
       "0       KQAXOVRIAHANRP-UHFFFAOYSA-N  0.250000   train             nM   \n",
       "1       PDKNDDNVRANJIM-UHFFFAOYSA-N  0.333333   train             nM   \n",
       "2       MADSTIMKHBTMDS-UHFFFAOYSA-N  0.258333   train             nM   \n",
       "3       XKJYQGQMUPMJPB-UHFFFAOYSA-N  0.283333   train             nM   \n",
       "4       STMQJGCAFZYVJO-UHFFFAOYSA-N  0.693525   train             nM   \n",
       "...                             ...       ...     ...            ...   \n",
       "235676  HCBHPBMOOSVXMK-UHFFFAOYSA-N  0.425000   train             nM   \n",
       "235677  XRYNGYFVBDYCOA-UHFFFAOYSA-N  0.225000   train             nM   \n",
       "235678  OJDAXNHNPTWBSN-UHFFFAOYSA-N  0.325000   train             nM   \n",
       "235679  ABKKFERIXUERCT-UHFFFAOYSA-N  0.333333   train             nM   \n",
       "235680  WGDLKKMGZLAZSL-UHFFFAOYSA-N  0.399999   train             nM   \n",
       "\n",
       "                                              protein_seq  \\\n",
       "0       ----------------------------------------------...   \n",
       "1       ----------------------------------------------...   \n",
       "2       ----------------------------------------------...   \n",
       "3       ----------------------------------------------...   \n",
       "4       ----------------------------------------------...   \n",
       "...                                                   ...   \n",
       "235676  ----------------------------------------------...   \n",
       "235677  ----------------------------------------------...   \n",
       "235678  ----------------------------------------------...   \n",
       "235679  ----------------------------------------------...   \n",
       "235680  ----------------------------------------------...   \n",
       "\n",
       "                                                   smiles  \\\n",
       "0       Cc1nc(N2CCOCC2)c2nc(-c3ccccc3)n(CCCN3CCCCC3C)c2n1   \n",
       "1                CCOC(=O)c1c(NC(=O)CCc2ccc(CC)o2)sc(C)c1C   \n",
       "2              CC(=O)OC1CC(C)N(C(=O)c2ccccc2)c2ccc(C)cc21   \n",
       "3                 CCOc1ccc(Nc2cc(C)nc(-n3nc(C)cc3C)n2)cc1   \n",
       "4          Cc1cccc(C)c1-c1cccc(COc2ccc3c(c2)CC3CC(=O)O)c1   \n",
       "...                                                   ...   \n",
       "235676  Cc1cc(Br)cc(C)c1OCC(=O)Nc1ccc(S(=O)(=O)Nc2nccc...   \n",
       "235677                    O=C(NCCSc1ccccn1)c1ccc(Cl)cc1Cl   \n",
       "235678  COc1ccc(F)cc1-c1cc(C(=O)NCc2cc(C(F)(F)F)cc(C(F...   \n",
       "235679                   CCCCc1cc(C(=O)Cc2ccccn2)c(O)cc1O   \n",
       "235680                    Cc1oc2cc(O)ccc2c(=O)c1Oc1ccccc1   \n",
       "\n",
       "                                         canonical_smiles  \\\n",
       "0       Cc1nc(N2CCOCC2)c2nc(-c3ccccc3)n(CCCN3CCCCC3C)c2n1   \n",
       "1                CCOC(=O)c1c(NC(=O)CCc2ccc(CC)o2)sc(C)c1C   \n",
       "2              CC(=O)OC1CC(C)N(C(=O)c2ccccc2)c2ccc(C)cc21   \n",
       "3                 CCOc1ccc(Nc2cc(C)nc(-n3nc(C)cc3C)n2)cc1   \n",
       "4          Cc1cccc(C)c1-c1cccc(COc2ccc3c(c2)CC3CC(=O)O)c1   \n",
       "...                                                   ...   \n",
       "235676  Cc1cc(Br)cc(C)c1OCC(=O)Nc1ccc(S(=O)(=O)Nc2nccc...   \n",
       "235677                    O=C(NCCSc1ccccn1)c1ccc(Cl)cc1Cl   \n",
       "235678  COc1ccc(F)cc1-c1cc(C(=O)NCc2cc(C(F)(F)F)cc(C(F...   \n",
       "235679                   CCCCc1cc(C(=O)Cc2ccccn2)c(O)cc1O   \n",
       "235680                    Cc1oc2cc(O)ccc2c(=O)c1Oc1ccccc1   \n",
       "\n",
       "                                                     desc  \\\n",
       "0       (5.565795635520772, 0.6892293352791187, 5.5657...   \n",
       "1       (12.217143014613253, -0.3951183483290268, 12.2...   \n",
       "2       (13.004847726127489, -0.3127561518434543, 13.0...   \n",
       "3       (5.457601201159032, 0.5639226586971897, 5.4576...   \n",
       "4       (10.88593753267884, -0.7363445541812139, 10.88...   \n",
       "...                                                   ...   \n",
       "235676  (12.380391481676032, -3.8341281728389043, 12.3...   \n",
       "235677  (11.924613725119677, -0.2006596959771556, 11.9...   \n",
       "235678  (13.542988464750248, -4.997708658889457, 13.54...   \n",
       "235679  (12.290600513353489, -0.20467734315948571, 12....   \n",
       "235680  (12.398309240362812, -0.25684901738473176, 12....   \n",
       "\n",
       "                                                charge_fp  \n",
       "0       [0, 0, 0, 0, 0, 0, 0, 0, 0, 0, 0, 0, 0, 0, 0, ...  \n",
       "1       [0, 0, 0, 0, 0, 0, 0, 0, 0, 0, 0, 0, 0, 0, 0, ...  \n",
       "2       [0, 0, 0, 0, 0, 0, 0, 0, 0, 0, 0, 0, 0, 0, 0, ...  \n",
       "3       [0, 0, 0, 0, 0, 0, 0, 0, 0, 0, 0, 0, 0, 0, 0, ...  \n",
       "4       [0, 0, 0, 0, 0, 0, 0, 0, 0, 0, 0, 0, 0, 0, 0, ...  \n",
       "...                                                   ...  \n",
       "235676  [0, 0, 0, 0, 0, 0, 0, 0, 0, 0, 0, 0, 0, 0, 0, ...  \n",
       "235677  [0, 0, 0, 0, 0, 0, 0, 0, 0, 0, 0, 1, 0, 0, 0, ...  \n",
       "235678  [0, 0, 0, 0, 0, 0, 0, 0, 0, 0, 0, 0, 0, 0, 0, ...  \n",
       "235679  [0, 0, 0, 0, 0, 0, 0, 0, 0, 0, 0, 0, 0, 0, 1, ...  \n",
       "235680  [0, 0, 0, 0, 0, 0, 0, 0, 0, 0, 0, 0, 0, 0, 0, ...  \n",
       "\n",
       "[235681 rows x 12 columns]"
      ]
     },
     "execution_count": 36,
     "metadata": {},
     "output_type": "execute_result"
    }
   ],
   "source": [
    "df"
   ]
  },
  {
   "cell_type": "code",
   "execution_count": 39,
   "metadata": {},
   "outputs": [
    {
     "ename": "TypeError",
     "evalue": "custom_add_endpoint() takes from 1 to 3 positional arguments but 15 were given",
     "output_type": "error",
     "traceback": [
      "\u001b[0;31m---------------------------------------------------------------------------\u001b[0m",
      "\u001b[0;31mTypeError\u001b[0m                                 Traceback (most recent call last)",
      "File \u001b[0;32m~/.conda/envs/gpcrscan/lib/python3.11/site-packages/swifter/swifter.py:419\u001b[0m, in \u001b[0;36mDataFrameAccessor.apply\u001b[0;34m(self, func, axis, raw, result_type, args, **kwds)\u001b[0m\n\u001b[1;32m    418\u001b[0m \u001b[39mwith\u001b[39;00m suppress_stdout_stderr_logging():\n\u001b[0;32m--> 419\u001b[0m     tmp_df \u001b[39m=\u001b[39m func(sample, \u001b[39m*\u001b[39;49margs, \u001b[39m*\u001b[39;49m\u001b[39m*\u001b[39;49mkwds)\n\u001b[1;32m    420\u001b[0m     sample_df \u001b[39m=\u001b[39m sample\u001b[39m.\u001b[39mapply(func, axis\u001b[39m=\u001b[39maxis, raw\u001b[39m=\u001b[39mraw, result_type\u001b[39m=\u001b[39mresult_type, args\u001b[39m=\u001b[39margs, \u001b[39m*\u001b[39m\u001b[39m*\u001b[39mkwds)\n",
      "\u001b[0;31mTypeError\u001b[0m: custom_add_endpoint() takes from 1 to 3 positional arguments but 15 were given",
      "\nDuring handling of the above exception, another exception occurred:\n",
      "\u001b[0;31mTypeError\u001b[0m                                 Traceback (most recent call last)",
      "\u001b[1;32m/home/lab09/DEV/GPCRScan/notebooks/03_add_desriptors.ipynb Cell 42\u001b[0m line \u001b[0;36m7\n\u001b[1;32m      <a href='vscode-notebook-cell://ssh-remote%2B203.230.60.140/home/lab09/DEV/GPCRScan/notebooks/03_add_desriptors.ipynb#X46sdnNjb2RlLXJlbW90ZQ%3D%3D?line=0'>1</a>\u001b[0m \u001b[39mfrom\u001b[39;00m \u001b[39mgpcrscan\u001b[39;00m\u001b[39m.\u001b[39;00m\u001b[39mchem\u001b[39;00m\u001b[39m.\u001b[39;00m\u001b[39mdescriptors\u001b[39;00m \u001b[39mimport\u001b[39;00m custom_add_endpoint\n\u001b[1;32m      <a href='vscode-notebook-cell://ssh-remote%2B203.230.60.140/home/lab09/DEV/GPCRScan/notebooks/03_add_desriptors.ipynb#X46sdnNjb2RlLXJlbW90ZQ%3D%3D?line=3'>4</a>\u001b[0m df[\u001b[39m\"\u001b[39m\u001b[39mpEndPoint\u001b[39m\u001b[39m\"\u001b[39m] \u001b[39m=\u001b[39m (\n\u001b[1;32m      <a href='vscode-notebook-cell://ssh-remote%2B203.230.60.140/home/lab09/DEV/GPCRScan/notebooks/03_add_desriptors.ipynb#X46sdnNjb2RlLXJlbW90ZQ%3D%3D?line=4'>5</a>\u001b[0m     df\u001b[39m.\u001b[39;49mswifter\u001b[39m.\u001b[39;49mallow_dask_on_strings(enable\u001b[39m=\u001b[39;49m\u001b[39mTrue\u001b[39;49;00m)\n\u001b[1;32m      <a href='vscode-notebook-cell://ssh-remote%2B203.230.60.140/home/lab09/DEV/GPCRScan/notebooks/03_add_desriptors.ipynb#X46sdnNjb2RlLXJlbW90ZQ%3D%3D?line=5'>6</a>\u001b[0m     \u001b[39m.\u001b[39;49mset_npartitions(num_cores)\n\u001b[0;32m----> <a href='vscode-notebook-cell://ssh-remote%2B203.230.60.140/home/lab09/DEV/GPCRScan/notebooks/03_add_desriptors.ipynb#X46sdnNjb2RlLXJlbW90ZQ%3D%3D?line=6'>7</a>\u001b[0m     \u001b[39m.\u001b[39;49mapply(custom_add_endpoint, axis\u001b[39m=\u001b[39;49m\u001b[39m1\u001b[39;49m, args\u001b[39m=\u001b[39;49m(\u001b[39m\"\u001b[39;49m\u001b[39mstandard_value\u001b[39;49m\u001b[39m\"\u001b[39;49m))\n\u001b[1;32m      <a href='vscode-notebook-cell://ssh-remote%2B203.230.60.140/home/lab09/DEV/GPCRScan/notebooks/03_add_desriptors.ipynb#X46sdnNjb2RlLXJlbW90ZQ%3D%3D?line=7'>8</a>\u001b[0m )\n",
      "File \u001b[0;32m~/.conda/envs/gpcrscan/lib/python3.11/site-packages/swifter/swifter.py:428\u001b[0m, in \u001b[0;36mDataFrameAccessor.apply\u001b[0;34m(self, func, axis, raw, result_type, args, **kwds)\u001b[0m\n\u001b[1;32m    426\u001b[0m \u001b[39mexcept\u001b[39;00m ERRORS_TO_HANDLE:  \u001b[39m# if can't vectorize, estimate time to pandas apply\u001b[39;00m\n\u001b[1;32m    427\u001b[0m     wrapped \u001b[39m=\u001b[39m \u001b[39mself\u001b[39m\u001b[39m.\u001b[39m_wrapped_apply(func, axis\u001b[39m=\u001b[39maxis, raw\u001b[39m=\u001b[39mraw, result_type\u001b[39m=\u001b[39mresult_type, args\u001b[39m=\u001b[39margs, \u001b[39m*\u001b[39m\u001b[39m*\u001b[39mkwds)\n\u001b[0;32m--> 428\u001b[0m     timed \u001b[39m=\u001b[39m timeit\u001b[39m.\u001b[39;49mtimeit(wrapped, number\u001b[39m=\u001b[39;49mN_REPEATS)\n\u001b[1;32m    429\u001b[0m     sample_proc_est \u001b[39m=\u001b[39m timed \u001b[39m/\u001b[39m N_REPEATS\n\u001b[1;32m    430\u001b[0m     est_apply_duration \u001b[39m=\u001b[39m sample_proc_est \u001b[39m/\u001b[39m \u001b[39mself\u001b[39m\u001b[39m.\u001b[39m_SAMPLE_SIZE \u001b[39m*\u001b[39m \u001b[39mself\u001b[39m\u001b[39m.\u001b[39m_nrows\n",
      "File \u001b[0;32m~/.conda/envs/gpcrscan/lib/python3.11/timeit.py:237\u001b[0m, in \u001b[0;36mtimeit\u001b[0;34m(stmt, setup, timer, number, globals)\u001b[0m\n\u001b[1;32m    234\u001b[0m \u001b[39mdef\u001b[39;00m \u001b[39mtimeit\u001b[39m(stmt\u001b[39m=\u001b[39m\u001b[39m\"\u001b[39m\u001b[39mpass\u001b[39m\u001b[39m\"\u001b[39m, setup\u001b[39m=\u001b[39m\u001b[39m\"\u001b[39m\u001b[39mpass\u001b[39m\u001b[39m\"\u001b[39m, timer\u001b[39m=\u001b[39mdefault_timer,\n\u001b[1;32m    235\u001b[0m            number\u001b[39m=\u001b[39mdefault_number, \u001b[39mglobals\u001b[39m\u001b[39m=\u001b[39m\u001b[39mNone\u001b[39;00m):\n\u001b[1;32m    236\u001b[0m \u001b[39m    \u001b[39m\u001b[39m\"\"\"Convenience function to create Timer object and call timeit method.\"\"\"\u001b[39;00m\n\u001b[0;32m--> 237\u001b[0m     \u001b[39mreturn\u001b[39;00m Timer(stmt, setup, timer, \u001b[39mglobals\u001b[39;49m)\u001b[39m.\u001b[39;49mtimeit(number)\n",
      "File \u001b[0;32m~/.conda/envs/gpcrscan/lib/python3.11/timeit.py:180\u001b[0m, in \u001b[0;36mTimer.timeit\u001b[0;34m(self, number)\u001b[0m\n\u001b[1;32m    178\u001b[0m gc\u001b[39m.\u001b[39mdisable()\n\u001b[1;32m    179\u001b[0m \u001b[39mtry\u001b[39;00m:\n\u001b[0;32m--> 180\u001b[0m     timing \u001b[39m=\u001b[39m \u001b[39mself\u001b[39;49m\u001b[39m.\u001b[39;49minner(it, \u001b[39mself\u001b[39;49m\u001b[39m.\u001b[39;49mtimer)\n\u001b[1;32m    181\u001b[0m \u001b[39mfinally\u001b[39;00m:\n\u001b[1;32m    182\u001b[0m     \u001b[39mif\u001b[39;00m gcold:\n",
      "File \u001b[0;32m<timeit-src>:6\u001b[0m, in \u001b[0;36minner\u001b[0;34m(_it, _timer, _stmt)\u001b[0m\n",
      "File \u001b[0;32m~/.conda/envs/gpcrscan/lib/python3.11/site-packages/swifter/swifter.py:337\u001b[0m, in \u001b[0;36mDataFrameAccessor._wrapped_apply.<locals>.wrapped\u001b[0;34m()\u001b[0m\n\u001b[1;32m    335\u001b[0m \u001b[39mdef\u001b[39;00m \u001b[39mwrapped\u001b[39m():\n\u001b[1;32m    336\u001b[0m     \u001b[39mwith\u001b[39;00m suppress_stdout_stderr_logging():\n\u001b[0;32m--> 337\u001b[0m         \u001b[39mself\u001b[39;49m\u001b[39m.\u001b[39;49m_obj\u001b[39m.\u001b[39;49miloc[\u001b[39mself\u001b[39;49m\u001b[39m.\u001b[39;49m_SAMPLE_INDEX]\u001b[39m.\u001b[39;49mapply(\n\u001b[1;32m    338\u001b[0m             func, axis\u001b[39m=\u001b[39;49maxis, raw\u001b[39m=\u001b[39;49mraw, result_type\u001b[39m=\u001b[39;49mresult_type, args\u001b[39m=\u001b[39;49margs, \u001b[39m*\u001b[39;49m\u001b[39m*\u001b[39;49mkwds\n\u001b[1;32m    339\u001b[0m         )\n",
      "File \u001b[0;32m~/.conda/envs/gpcrscan/lib/python3.11/site-packages/pandas/core/frame.py:10034\u001b[0m, in \u001b[0;36mDataFrame.apply\u001b[0;34m(self, func, axis, raw, result_type, args, by_row, **kwargs)\u001b[0m\n\u001b[1;32m  10022\u001b[0m \u001b[39mfrom\u001b[39;00m \u001b[39mpandas\u001b[39;00m\u001b[39m.\u001b[39;00m\u001b[39mcore\u001b[39;00m\u001b[39m.\u001b[39;00m\u001b[39mapply\u001b[39;00m \u001b[39mimport\u001b[39;00m frame_apply\n\u001b[1;32m  10024\u001b[0m op \u001b[39m=\u001b[39m frame_apply(\n\u001b[1;32m  10025\u001b[0m     \u001b[39mself\u001b[39m,\n\u001b[1;32m  10026\u001b[0m     func\u001b[39m=\u001b[39mfunc,\n\u001b[0;32m   (...)\u001b[0m\n\u001b[1;32m  10032\u001b[0m     kwargs\u001b[39m=\u001b[39mkwargs,\n\u001b[1;32m  10033\u001b[0m )\n\u001b[0;32m> 10034\u001b[0m \u001b[39mreturn\u001b[39;00m op\u001b[39m.\u001b[39;49mapply()\u001b[39m.\u001b[39m__finalize__(\u001b[39mself\u001b[39m, method\u001b[39m=\u001b[39m\u001b[39m\"\u001b[39m\u001b[39mapply\u001b[39m\u001b[39m\"\u001b[39m)\n",
      "File \u001b[0;32m~/.conda/envs/gpcrscan/lib/python3.11/site-packages/pandas/core/apply.py:837\u001b[0m, in \u001b[0;36mFrameApply.apply\u001b[0;34m(self)\u001b[0m\n\u001b[1;32m    834\u001b[0m \u001b[39melif\u001b[39;00m \u001b[39mself\u001b[39m\u001b[39m.\u001b[39mraw:\n\u001b[1;32m    835\u001b[0m     \u001b[39mreturn\u001b[39;00m \u001b[39mself\u001b[39m\u001b[39m.\u001b[39mapply_raw()\n\u001b[0;32m--> 837\u001b[0m \u001b[39mreturn\u001b[39;00m \u001b[39mself\u001b[39;49m\u001b[39m.\u001b[39;49mapply_standard()\n",
      "File \u001b[0;32m~/.conda/envs/gpcrscan/lib/python3.11/site-packages/pandas/core/apply.py:963\u001b[0m, in \u001b[0;36mFrameApply.apply_standard\u001b[0;34m(self)\u001b[0m\n\u001b[1;32m    962\u001b[0m \u001b[39mdef\u001b[39;00m \u001b[39mapply_standard\u001b[39m(\u001b[39mself\u001b[39m):\n\u001b[0;32m--> 963\u001b[0m     results, res_index \u001b[39m=\u001b[39m \u001b[39mself\u001b[39;49m\u001b[39m.\u001b[39;49mapply_series_generator()\n\u001b[1;32m    965\u001b[0m     \u001b[39m# wrap results\u001b[39;00m\n\u001b[1;32m    966\u001b[0m     \u001b[39mreturn\u001b[39;00m \u001b[39mself\u001b[39m\u001b[39m.\u001b[39mwrap_results(results, res_index)\n",
      "File \u001b[0;32m~/.conda/envs/gpcrscan/lib/python3.11/site-packages/pandas/core/apply.py:979\u001b[0m, in \u001b[0;36mFrameApply.apply_series_generator\u001b[0;34m(self)\u001b[0m\n\u001b[1;32m    976\u001b[0m \u001b[39mwith\u001b[39;00m option_context(\u001b[39m\"\u001b[39m\u001b[39mmode.chained_assignment\u001b[39m\u001b[39m\"\u001b[39m, \u001b[39mNone\u001b[39;00m):\n\u001b[1;32m    977\u001b[0m     \u001b[39mfor\u001b[39;00m i, v \u001b[39min\u001b[39;00m \u001b[39menumerate\u001b[39m(series_gen):\n\u001b[1;32m    978\u001b[0m         \u001b[39m# ignore SettingWithCopy here in case the user mutates\u001b[39;00m\n\u001b[0;32m--> 979\u001b[0m         results[i] \u001b[39m=\u001b[39m \u001b[39mself\u001b[39;49m\u001b[39m.\u001b[39;49mfunc(v, \u001b[39m*\u001b[39;49m\u001b[39mself\u001b[39;49m\u001b[39m.\u001b[39;49margs, \u001b[39m*\u001b[39;49m\u001b[39m*\u001b[39;49m\u001b[39mself\u001b[39;49m\u001b[39m.\u001b[39;49mkwargs)\n\u001b[1;32m    980\u001b[0m         \u001b[39mif\u001b[39;00m \u001b[39misinstance\u001b[39m(results[i], ABCSeries):\n\u001b[1;32m    981\u001b[0m             \u001b[39m# If we have a view on v, we need to make a copy because\u001b[39;00m\n\u001b[1;32m    982\u001b[0m             \u001b[39m#  series_generator will swap out the underlying data\u001b[39;00m\n\u001b[1;32m    983\u001b[0m             results[i] \u001b[39m=\u001b[39m results[i]\u001b[39m.\u001b[39mcopy(deep\u001b[39m=\u001b[39m\u001b[39mFalse\u001b[39;00m)\n",
      "\u001b[0;31mTypeError\u001b[0m: custom_add_endpoint() takes from 1 to 3 positional arguments but 15 were given"
     ]
    }
   ],
   "source": [
    "from gpcrscan.chem.descriptors import custom_add_endpoint\n",
    "\n",
    "\n",
    "df[\"pEndPoint\"] = (\n",
    "    df.swifter.allow_dask_on_strings(enable=True)\n",
    "    .set_npartitions(num_cores)\n",
    "    .apply(custom_add_endpoint, axis=1, args=(\"standard_value\"))\n",
    ")"
   ]
  },
  {
   "cell_type": "code",
   "execution_count": null,
   "metadata": {},
   "outputs": [],
   "source": [
    "# df = df[~df.pEndPoint.isna()]\n",
    "assert df.pEndPoint.isna().sum() == 0, \"Some failed to convert to pEndPoint. Remove them before proceeding\""
   ]
  },
  {
   "cell_type": "code",
   "execution_count": null,
   "metadata": {},
   "outputs": [],
   "source": [
    "df[df.pEndPoint == float(\"inf\")].shape"
   ]
  },
  {
   "cell_type": "code",
   "execution_count": null,
   "metadata": {},
   "outputs": [],
   "source": [
    "# Drop inf values\n",
    "df = df[df.pEndPoint != float(\"inf\")]\n",
    "df.shape\n"
   ]
  },
  {
   "cell_type": "markdown",
   "metadata": {},
   "source": [
    "# Add Selfie"
   ]
  },
  {
   "cell_type": "code",
   "execution_count": 40,
   "metadata": {},
   "outputs": [
    {
     "name": "stderr",
     "output_type": "stream",
     "text": [
      "Pandas Apply: 100%|██████████| 235681/235681 [00:59<00:00, 3978.95it/s]\n"
     ]
    }
   ],
   "source": [
    "df[\"selfies\"] = (\n",
    "    df.swifter.allow_dask_on_strings(enable=True)\n",
    "    .set_npartitions(num_cores)\n",
    "    .apply(add_selfies, axis=1, args=(\"canonical_smiles\",))\n",
    ")"
   ]
  },
  {
   "cell_type": "code",
   "execution_count": 41,
   "metadata": {},
   "outputs": [],
   "source": [
    "# df = df[~df.selfies.isna()]\n",
    "assert df.selfies.isna().sum() == 0, \"Some failed to convert to selfies. Remove them before proceeding\""
   ]
  },
  {
   "cell_type": "markdown",
   "metadata": {},
   "source": [
    "# Save"
   ]
  },
  {
   "cell_type": "code",
   "execution_count": 42,
   "metadata": {},
   "outputs": [],
   "source": [
    "df.to_csv(outfile, index=False)"
   ]
  },
  {
   "cell_type": "code",
   "execution_count": null,
   "metadata": {},
   "outputs": [],
   "source": [
    "df"
   ]
  },
  {
   "cell_type": "markdown",
   "metadata": {},
   "source": [
    "## Check again for inf"
   ]
  },
  {
   "cell_type": "code",
   "execution_count": 44,
   "metadata": {},
   "outputs": [
    {
     "data": {
      "text/html": [
       "<div>\n",
       "<style scoped>\n",
       "    .dataframe tbody tr th:only-of-type {\n",
       "        vertical-align: middle;\n",
       "    }\n",
       "\n",
       "    .dataframe tbody tr th {\n",
       "        vertical-align: top;\n",
       "    }\n",
       "\n",
       "    .dataframe thead th {\n",
       "        text-align: right;\n",
       "    }\n",
       "</style>\n",
       "<table border=\"1\" class=\"dataframe\">\n",
       "  <thead>\n",
       "    <tr style=\"text-align: right;\">\n",
       "      <th></th>\n",
       "      <th>combined_id</th>\n",
       "      <th>standard_value</th>\n",
       "      <th>uniprot_id</th>\n",
       "      <th>inchi_key</th>\n",
       "      <th>endpoint</th>\n",
       "      <th>dataset</th>\n",
       "      <th>standard_units</th>\n",
       "      <th>protein_seq</th>\n",
       "      <th>smiles</th>\n",
       "      <th>canonical_smiles</th>\n",
       "      <th>desc</th>\n",
       "      <th>charge_fp</th>\n",
       "      <th>selfies</th>\n",
       "    </tr>\n",
       "  </thead>\n",
       "  <tbody>\n",
       "  </tbody>\n",
       "</table>\n",
       "</div>"
      ],
      "text/plain": [
       "Empty DataFrame\n",
       "Columns: [combined_id, standard_value, uniprot_id, inchi_key, endpoint, dataset, standard_units, protein_seq, smiles, canonical_smiles, desc, charge_fp, selfies]\n",
       "Index: []"
      ]
     },
     "execution_count": 44,
     "metadata": {},
     "output_type": "execute_result"
    }
   ],
   "source": [
    "df[df.endpoint == float(\"inf\")]"
   ]
  },
  {
   "cell_type": "code",
   "execution_count": 45,
   "metadata": {},
   "outputs": [
    {
     "data": {
      "text/plain": [
       "<Axes: >"
      ]
     },
     "execution_count": 45,
     "metadata": {},
     "output_type": "execute_result"
    },
    {
     "data": {
      "image/png": "[encoded data removed]",
      "text/plain": [
       "<Figure size 640x480 with 1 Axes>"
      ]
     },
     "metadata": {},
     "output_type": "display_data"
    }
   ],
   "source": [
    "df.endpoint.hist(bins=100, grid=False, xlabelsize=12, ylabelsize=12)"
   ]
  },
  {
   "cell_type": "code",
   "execution_count": 46,
   "metadata": {},
   "outputs": [
    {
     "data": {
      "text/plain": [
       "<seaborn.axisgrid.FacetGrid at 0x7f9c0235a550>"
      ]
     },
     "execution_count": 46,
     "metadata": {},
     "output_type": "execute_result"
    },
    {
     "data": {
      "image/png": "[encoded data removed]",
      "text/plain": [
       "<Figure size 982.5x600 with 1 Axes>"
      ]
     },
     "metadata": {},
     "output_type": "display_data"
    }
   ],
   "source": [
    "import seaborn as sns\n",
    "\n",
    "sns.displot(df, x=\"endpoint\",  hue=\"dataset\", kind=\"hist\", \n",
    "             height=6, aspect=1.5, bins=100, multiple=\"stack\")\n",
    "\n",
    "\n"
   ]
  },
  {
   "cell_type": "markdown",
   "metadata": {},
   "source": [
    "# trian and test set for non CV"
   ]
  },
  {
   "cell_type": "code",
   "execution_count": 47,
   "metadata": {},
   "outputs": [
    {
     "data": {
      "text/plain": [
       "dataset\n",
       "train    229312\n",
       "test       6369\n",
       "Name: count, dtype: int64"
      ]
     },
     "execution_count": 47,
     "metadata": {},
     "output_type": "execute_result"
    }
   ],
   "source": [
    "df.dataset.value_counts()"
   ]
  },
  {
   "cell_type": "code",
   "execution_count": null,
   "metadata": {},
   "outputs": [],
   "source": [
    "df"
   ]
  },
  {
   "cell_type": "code",
   "execution_count": 48,
   "metadata": {},
   "outputs": [],
   "source": [
    "df[df.dataset==\"train\"].to_parquet(\"../data/AzothBio/processed/IC/ec_train.parquet\", index=False)\n",
    "df[df.dataset==\"test\"].to_parquet(\"../data/AzothBio/processed/IC/ec_test.parquet\", index=False)\n"
   ]
  },
  {
   "cell_type": "code",
   "execution_count": null,
   "metadata": {},
   "outputs": [],
   "source": []
  }
 ],
 "metadata": {
  "kernelspec": {
   "display_name": "gpcrscan",
   "language": "python",
   "name": "python3"
  },
  "language_info": {
   "codemirror_mode": {
    "name": "ipython",
    "version": 3
   },
   "file_extension": ".py",
   "mimetype": "text/x-python",
   "name": "python",
   "nbconvert_exporter": "python",
   "pygments_lexer": "ipython3",
   "version": "3.11.6"
  }
 },
 "nbformat": 4,
 "nbformat_minor": 2
}
